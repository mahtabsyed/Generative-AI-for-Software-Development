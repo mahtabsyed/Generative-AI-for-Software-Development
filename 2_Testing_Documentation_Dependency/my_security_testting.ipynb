{
  "cells": [
    {
      "cell_type": "markdown",
      "metadata": {},
      "source": [
        "### Original code with Security Vulnerabulities "
      ]
    },
    {
      "cell_type": "code",
      "execution_count": null,
      "metadata": {
        "colab": {
          "base_uri": "https://localhost:8080/"
        },
        "executionInfo": {
          "elapsed": 23502,
          "status": "ok",
          "timestamp": 1721451973409,
          "user": {
            "displayName": "Laurence Moroney",
            "userId": "17858265307580721507"
          },
          "user_tz": 420
        },
        "id": "vOD-mUKrUQEQ",
        "outputId": "ef9b5a23-c98d-4221-9006-8c9918b286aa"
      },
      "outputs": [],
      "source": [
        "# !pip install flask_sqlalchemy"
      ]
    },
    {
      "cell_type": "code",
      "execution_count": 3,
      "metadata": {
        "colab": {
          "base_uri": "https://localhost:8080/"
        },
        "executionInfo": {
          "elapsed": 894,
          "status": "ok",
          "timestamp": 1721452136778,
          "user": {
            "displayName": "Laurence Moroney",
            "userId": "17858265307580721507"
          },
          "user_tz": 420
        },
        "id": "9rYIbukaTJuN",
        "outputId": "cd8046b5-6aec-42e0-b9d1-a1dcf1464711"
      },
      "outputs": [
        {
          "name": "stdout",
          "output_type": "stream",
          "text": [
            " * Serving Flask app '__main__'\n",
            " * Debug mode: off\n"
          ]
        },
        {
          "name": "stderr",
          "output_type": "stream",
          "text": [
            "\u001b[31m\u001b[1mWARNING: This is a development server. Do not use it in a production deployment. Use a production WSGI server instead.\u001b[0m\n",
            " * Running on all addresses (0.0.0.0)\n",
            " * Running on http://127.0.0.1:8080\n",
            " * Running on http://192.168.5.186:8080\n",
            "\u001b[33mPress CTRL+C to quit\u001b[0m\n",
            "127.0.0.1 - - [03/Nov/2024 14:46:06] \"GET / HTTP/1.1\" 200 -\n",
            "127.0.0.1 - - [03/Nov/2024 14:46:06] \"\u001b[33mGET /favicon.ico HTTP/1.1\u001b[0m\" 404 -\n",
            "127.0.0.1 - - [03/Nov/2024 14:46:31] \"GET /users HTTP/1.1\" 200 -\n",
            "192.168.5.186 - - [03/Nov/2024 14:48:58] \"GET / HTTP/1.1\" 200 -\n",
            "192.168.5.186 - - [03/Nov/2024 14:48:58] \"\u001b[33mGET /favicon.ico HTTP/1.1\u001b[0m\" 404 -\n"
          ]
        }
      ],
      "source": [
        "from flask import Flask, request, jsonify\n",
        "from flask_sqlalchemy import SQLAlchemy\n",
        "import threading\n",
        "\n",
        "app = Flask(__name__)\n",
        "app.config['SQLALCHEMY_DATABASE_URI'] = 'sqlite:///users.db'\n",
        "app.config['SQLALCHEMY_TRACK_MODIFICATIONS'] = False\n",
        "db = SQLAlchemy(app)\n",
        "\n",
        "class User(db.Model):\n",
        "    id = db.Column(db.Integer, primary_key=True)\n",
        "    username = db.Column(db.String(80), unique=True, nullable=False)\n",
        "    password = db.Column(db.String(120), nullable=False)\n",
        "\n",
        "with app.app_context():\n",
        "  db.create_all()\n",
        "\n",
        "@app.route('/')\n",
        "def home():\n",
        "    return \"Welcome to the Security Testing Demo!\"\n",
        "\n",
        "@app.route('/users', methods=['GET'])\n",
        "def get_users():\n",
        "    users = User.query.all()\n",
        "    return jsonify([{\"id\": user.id, \"username\": user.username, \"password\": user.password} for user in users])\n",
        "\n",
        "@app.route('/user/<int:id>', methods=['GET'])\n",
        "def get_user(id):\n",
        "    user = User.query.get(id)\n",
        "    if user:\n",
        "        return jsonify({\"id\": user.id, \"username\": user.username, \"password\": user.password})\n",
        "    return jsonify({\"message\": \"User not found\"}), 404\n",
        "\n",
        "@app.route('/user', methods=['POST'])\n",
        "def add_user():\n",
        "    data = request.get_json()\n",
        "    new_user = User(username=data['username'], password=data['password'])\n",
        "    db.session.add(new_user)\n",
        "    db.session.commit()\n",
        "    return jsonify({\"message\": \"User added successfully\"}), 201\n",
        "\n",
        "@app.route('/user/<int:id>', methods=['PUT'])\n",
        "def update_user(id):\n",
        "    data = request.get_json()\n",
        "    user = User.query.get(id)\n",
        "    if user:\n",
        "        user.username = data['username']\n",
        "        user.password = data['password']\n",
        "        db.session.commit()\n",
        "        return jsonify({\"message\": \"User updated successfully\"})\n",
        "    return jsonify({\"message\": \"User not found\"}), 404\n",
        "\n",
        "@app.route('/user/<int:id>', methods=['DELETE'])\n",
        "def delete_user(id):\n",
        "    user = User.query.get(id)\n",
        "    if user:\n",
        "        db.session.delete(user)\n",
        "        db.session.commit()\n",
        "        return jsonify({\"message\": \"User deleted successfully\"})\n",
        "    return jsonify({\"message\": \"User not found\"}), 404\n",
        "\n",
        "\n",
        "threading.Thread(target=app.run, kwargs={'host':'0.0.0.0','port':8080}).start()\n"
      ]
    },
    {
      "cell_type": "markdown",
      "metadata": {},
      "source": [
        "### Check Security Vulnerabulities and genearte updated code"
      ]
    },
    {
      "cell_type": "code",
      "execution_count": null,
      "metadata": {},
      "outputs": [],
      "source": [
        "\n",
        "# As a Security Expert can you check this code above check for Security Vulnerabilities like SQL injection, passwork leakage and all common type of attacks and prepare a report of what updates are needed to make this code secure."
      ]
    },
    {
      "cell_type": "markdown",
      "metadata": {},
      "source": [
        "** Explanation of Changes: **\n",
        "\n",
        "1. Environment-Based Database URI:\n",
        "- Used os.getenv to set the database URI dynamically, allowing configuration flexibility between development and production.\n",
        "\n",
        "2. CSRF Protection:\n",
        "- Added Flask-WTF CSRF protection. For typical API setups, CSRF can be bypassed, especially if using token-based authentication, but this code demonstrates the setup.\n",
        "\n",
        "3. Password Hashing and Checking:\n",
        "- Implemented generate_password_hash for password hashing and check_password_hash (if an authentication feature were added).\n",
        "\n",
        "4. Marshmallow Validation for Input:\n",
        "- Used Marshmallow to enforce data validation for inputs in add_user and update_user.\n",
        "\n",
        "5. Information Leakage Prevention:\n",
        "- Generalized error messages and removed password data from API responses.\n",
        "\n",
        "6. Concurrency and Secure Deployment:\n",
        "- Used app.run() only for development. For production, it’s recommended to use a WSGI server like Gunicorn and to secure the app over HTTPS.\n",
        "\n",
        "7. Secure Secret Key:\n",
        "- Added a randomly generated secret key required for CSRF protection and session management."
      ]
    },
    {
      "cell_type": "code",
      "execution_count": null,
      "metadata": {},
      "outputs": [],
      "source": [
        "from flask import Flask, request, jsonify\n",
        "from flask_sqlalchemy import SQLAlchemy\n",
        "from flask_wtf import CSRFProtect\n",
        "from werkzeug.security import generate_password_hash, check_password_hash\n",
        "from marshmallow import Schema, fields, validate, ValidationError\n",
        "import os\n",
        "\n",
        "# Initialize the Flask app and CSRF protection\n",
        "app = Flask(__name__)\n",
        "app.config['SQLALCHEMY_DATABASE_URI'] = os.getenv(\"DATABASE_URL\", \"sqlite:///users.db\")  # Use environment variable for database URI\n",
        "app.config['SQLALCHEMY_TRACK_MODIFICATIONS'] = False\n",
        "app.config['SECRET_KEY'] = os.urandom(24)  # Needed for CSRF protection and sessions\n",
        "db = SQLAlchemy(app)\n",
        "csrf = CSRFProtect(app)\n",
        "\n",
        "# Define a User schema using Marshmallow for input validation\n",
        "class UserSchema(Schema):\n",
        "    username = fields.String(required=True, validate=validate.Length(min=3, max=80))\n",
        "    password = fields.String(required=True, validate=validate.Length(min=6))\n",
        "\n",
        "user_schema = UserSchema()\n",
        "\n",
        "# Database model for User\n",
        "class User(db.Model):\n",
        "    id = db.Column(db.Integer, primary_key=True)\n",
        "    username = db.Column(db.String(80), unique=True, nullable=False)\n",
        "    password = db.Column(db.String(120), nullable=False)  # Stored as hashed password\n",
        "\n",
        "with app.app_context():\n",
        "    db.create_all()  # Create the database tables if they don't already exist\n",
        "\n",
        "@app.route('/')\n",
        "def home():\n",
        "    return \"Welcome to the Security Testing Demo!\"\n",
        "\n",
        "# Get all users (no passwords returned)\n",
        "@app.route('/users', methods=['GET'])\n",
        "def get_users():\n",
        "    users = User.query.all()\n",
        "    # Exclude passwords in response for security\n",
        "    return jsonify([{\"id\": user.id, \"username\": user.username} for user in users])\n",
        "\n",
        "# Get a single user by ID (no password returned)\n",
        "@app.route('/user/<int:id>', methods=['GET'])\n",
        "def get_user(id):\n",
        "    user = User.query.get(id)\n",
        "    if user:\n",
        "        # Exclude password in response for security\n",
        "        return jsonify({\"id\": user.id, \"username\": user.username})\n",
        "    return jsonify({\"message\": \"Operation unsuccessful\"}), 404  # Generic error message\n",
        "\n",
        "# Add a new user with hashed password and input validation\n",
        "@app.route('/user', methods=['POST'])\n",
        "@csrf.exempt  # CSRF protection is typically for forms; exempt for API if secured by other means\n",
        "def add_user():\n",
        "    try:\n",
        "        # Validate the incoming JSON data\n",
        "        data = user_schema.load(request.get_json())\n",
        "    except ValidationError as err:\n",
        "        return jsonify(err.messages), 400\n",
        "\n",
        "    # Hash the password for secure storage\n",
        "    hashed_password = generate_password_hash(data['password'], method='pbkdf2:sha256')\n",
        "    new_user = User(username=data['username'], password=hashed_password)\n",
        "    db.session.add(new_user)\n",
        "    db.session.commit()\n",
        "    return jsonify({\"message\": \"User added successfully\"}), 201\n",
        "\n",
        "# Update an existing user with input validation and hashed password\n",
        "@app.route('/user/<int:id>', methods=['PUT'])\n",
        "def update_user(id):\n",
        "    user = User.query.get(id)\n",
        "    if not user:\n",
        "        return jsonify({\"message\": \"Operation unsuccessful\"}), 404\n",
        "\n",
        "    try:\n",
        "        # Validate the incoming JSON data\n",
        "        data = user_schema.load(request.get_json())\n",
        "    except ValidationError as err:\n",
        "        return jsonify(err.messages), 400\n",
        "\n",
        "    # Update fields with validated input and hash the new password\n",
        "    user.username = data['username']\n",
        "    user.password = generate_password_hash(data['password'], method='pbkdf2:sha256')\n",
        "    db.session.commit()\n",
        "    return jsonify({\"message\": \"User updated successfully\"})\n",
        "\n",
        "# Delete a user\n",
        "@app.route('/user/<int:id>', methods=['DELETE'])\n",
        "def delete_user(id):\n",
        "    user = User.query.get(id)\n",
        "    if not user:\n",
        "        return jsonify({\"message\": \"Operation unsuccessful\"}), 404\n",
        "    \n",
        "    db.session.delete(user)\n",
        "    db.session.commit()\n",
        "    return jsonify({\"message\": \"User deleted successfully\"})\n",
        "\n",
        "# Ensure the application runs with proper security configurations for production\n",
        "if __name__ == \"__main__\":\n",
        "    # Only use Flask's development server for local testing\n",
        "    # For production, use a WSGI server (e.g., Gunicorn) and HTTPS\n",
        "    app.run(host='0.0.0.0', port=8080)\n"
      ]
    },
    {
      "cell_type": "code",
      "execution_count": null,
      "metadata": {
        "colab": {
          "base_uri": "https://localhost:8080/"
        },
        "executionInfo": {
          "elapsed": 323,
          "status": "ok",
          "timestamp": 1721452233676,
          "user": {
            "displayName": "Laurence Moroney",
            "userId": "17858265307580721507"
          },
          "user_tz": 420
        },
        "id": "eG1_y8mxTdQb",
        "outputId": "88c7ccae-9267-4728-d587-dfe0523d798d"
      },
      "outputs": [],
      "source": [
        "# !curl -X GET http://172.28.0.12:5000/users\n",
        "!curl -X GET http://127.0.0.1:8080"
      ]
    },
    {
      "cell_type": "code",
      "execution_count": null,
      "metadata": {
        "colab": {
          "base_uri": "https://localhost:8080/"
        },
        "executionInfo": {
          "elapsed": 161,
          "status": "ok",
          "timestamp": 1721452235412,
          "user": {
            "displayName": "Laurence Moroney",
            "userId": "17858265307580721507"
          },
          "user_tz": 420
        },
        "id": "glPFMY_DWcqp",
        "outputId": "88d708d0-85ed-435a-cc41-8edd6066637e"
      },
      "outputs": [],
      "source": [
        "!curl -X GET http://localhost:8080/user/1"
      ]
    },
    {
      "cell_type": "code",
      "execution_count": null,
      "metadata": {
        "colab": {
          "base_uri": "https://localhost:8080/"
        },
        "executionInfo": {
          "elapsed": 161,
          "status": "ok",
          "timestamp": 1721452189201,
          "user": {
            "displayName": "Laurence Moroney",
            "userId": "17858265307580721507"
          },
          "user_tz": 420
        },
        "id": "d-kTQBl8V65G",
        "outputId": "baba763a-11d8-4446-c126-6ce53edd5d2b"
      },
      "outputs": [],
      "source": [
        "!curl -X POST http://localhost:8080/user -H \"Content-Type: application/json\" -d '{\"username\":\"testuser\",\"password\":\"securepassword\"}'\n"
      ]
    },
    {
      "cell_type": "code",
      "execution_count": null,
      "metadata": {
        "colab": {
          "base_uri": "https://localhost:8080/"
        },
        "executionInfo": {
          "elapsed": 350,
          "status": "ok",
          "timestamp": 1721452213626,
          "user": {
            "displayName": "Laurence Moroney",
            "userId": "17858265307580721507"
          },
          "user_tz": 420
        },
        "id": "tP6GUjgnWmci",
        "outputId": "e476214d-0495-4159-d84a-ad1f3d89b834"
      },
      "outputs": [],
      "source": [
        "!curl -X PUT http://localhost:8080/user/1 -H \"Content-Type: application/json\" -d '{\"username\":\"testuser\",\"password\":\"newsecurepassword\"}'"
      ]
    },
    {
      "cell_type": "code",
      "execution_count": null,
      "metadata": {
        "colab": {
          "base_uri": "https://localhost:8080/"
        },
        "executionInfo": {
          "elapsed": 348,
          "status": "ok",
          "timestamp": 1721452228173,
          "user": {
            "displayName": "Laurence Moroney",
            "userId": "17858265307580721507"
          },
          "user_tz": 420
        },
        "id": "qOhUQjf2WzQi",
        "outputId": "d23920d8-423b-447c-a87c-2cddc738736c"
      },
      "outputs": [],
      "source": [
        "!curl -X DELETE http://localhost:8080/user/1"
      ]
    },
    {
      "cell_type": "code",
      "execution_count": null,
      "metadata": {
        "id": "bUZskhdaiLgU"
      },
      "outputs": [],
      "source": []
    }
  ],
  "metadata": {
    "colab": {
      "provenance": []
    },
    "kernelspec": {
      "display_name": ".venv",
      "language": "python",
      "name": "python3"
    },
    "language_info": {
      "codemirror_mode": {
        "name": "ipython",
        "version": 3
      },
      "file_extension": ".py",
      "mimetype": "text/x-python",
      "name": "python",
      "nbconvert_exporter": "python",
      "pygments_lexer": "ipython3",
      "version": "3.12.3"
    }
  },
  "nbformat": 4,
  "nbformat_minor": 0
}
