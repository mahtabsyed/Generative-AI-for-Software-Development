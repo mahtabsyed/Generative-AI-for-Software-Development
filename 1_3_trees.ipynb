{
 "cells": [
  {
   "cell_type": "markdown",
   "metadata": {},
   "source": [
    "## Trees"
   ]
  },
  {
   "cell_type": "code",
   "execution_count": null,
   "metadata": {},
   "outputs": [],
   "source": [
    "### Binary Tree"
   ]
  },
  {
   "cell_type": "code",
   "execution_count": 1,
   "metadata": {},
   "outputs": [
    {
     "name": "stdout",
     "output_type": "stream",
     "text": [
      "Inorder Traversal: [3, 5, 7, 10, 12, 15, 18]\n",
      "Preorder Traversal: [10, 5, 3, 7, 15, 12, 18]\n",
      "Postorder Traversal: [3, 7, 5, 12, 18, 15, 10]\n"
     ]
    }
   ],
   "source": [
    "class Node:\n",
    "    def __init__(self, data):\n",
    "        self.data = data\n",
    "        self.left = None\n",
    "        self.right = None\n",
    "\n",
    "class BinaryTree:\n",
    "    def __init__(self):\n",
    "        self.root = None\n",
    "\n",
    "    def insert(self, data):\n",
    "        if self.root is None:\n",
    "            self.root = Node(data)\n",
    "        else:\n",
    "            self._insert(self.root, data)\n",
    "\n",
    "    def _insert(self, node, data):\n",
    "        if data < node.data:\n",
    "            if node.left is None:\n",
    "                node.left = Node(data)\n",
    "            else:\n",
    "                self._insert(node.left, data)\n",
    "        else:\n",
    "            if node.right is None:\n",
    "                node.right = Node(data)\n",
    "            else:\n",
    "                self._insert(node.right, data)\n",
    "\n",
    "    def inorder_traversal(self, node, result):\n",
    "        if node:\n",
    "            self.inorder_traversal(node.left, result)\n",
    "            result.append(node.data)\n",
    "            self.inorder_traversal(node.right, result)\n",
    "\n",
    "    def preorder_traversal(self, node, result):\n",
    "        if node:\n",
    "            result.append(node.data)\n",
    "            self.preorder_traversal(node.left, result)\n",
    "            self.preorder_traversal(node.right, result)\n",
    "\n",
    "    def postorder_traversal(self, node, result):\n",
    "        if node:\n",
    "            self.postorder_traversal(node.left, result)\n",
    "            self.postorder_traversal(node.right, result)\n",
    "            result.append(node.data)\n",
    "\n",
    "# Example usage\n",
    "tree = BinaryTree()\n",
    "tree.insert(10)\n",
    "tree.insert(5)\n",
    "tree.insert(15)\n",
    "tree.insert(3)\n",
    "tree.insert(7)\n",
    "tree.insert(12)\n",
    "tree.insert(18)\n",
    "\n",
    "# Traversals\n",
    "inorder_result = []\n",
    "tree.inorder_traversal(tree.root, inorder_result)\n",
    "print(\"Inorder Traversal:\", inorder_result)\n",
    "\n",
    "preorder_result = []\n",
    "tree.preorder_traversal(tree.root, preorder_result)\n",
    "print(\"Preorder Traversal:\", preorder_result)\n",
    "\n",
    "postorder_result = []\n",
    "tree.postorder_traversal(tree.root, postorder_result)\n",
    "print(\"Postorder Traversal:\", postorder_result)"
   ]
  },
  {
   "cell_type": "code",
   "execution_count": null,
   "metadata": {},
   "outputs": [],
   "source": []
  }
 ],
 "metadata": {
  "kernelspec": {
   "display_name": ".venv",
   "language": "python",
   "name": "python3"
  },
  "language_info": {
   "codemirror_mode": {
    "name": "ipython",
    "version": 3
   },
   "file_extension": ".py",
   "mimetype": "text/x-python",
   "name": "python",
   "nbconvert_exporter": "python",
   "pygments_lexer": "ipython3",
   "version": "3.12.3"
  }
 },
 "nbformat": 4,
 "nbformat_minor": 2
}
