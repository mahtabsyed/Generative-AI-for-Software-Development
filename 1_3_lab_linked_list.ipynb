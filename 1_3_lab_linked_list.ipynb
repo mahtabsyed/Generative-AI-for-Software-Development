{
 "cells": [
  {
   "cell_type": "markdown",
   "metadata": {},
   "source": [
    "# Ungraded Lab - Building a Doubly Linked List Class with an LLM\n",
    "\n",
    "Welcome to the first ungraded lab of this course! In this lab you'll be working alongside an LLM to update a Linked List class to make it doubly linked. This is a good opportunity to practice your LLM prompting skills and prepare yourself for the programming assignment at the end of this course.\n",
    "\n",
    "# Outline\n",
    "- [ 1 - Introduction](#1)\n",
    "  - [ 1.1 Importing necessary libraries](#1.1)\n",
    "- [ 2 - The `Node` and `LinkedList` Classes to Update](#2)\n",
    "- [ 3 - Test Your Classes](#3)\n",
    "- [ 4 - Go Further with Your LLM Prompting Skills](#4)"
   ]
  },
  {
   "cell_type": "markdown",
   "metadata": {},
   "source": [
    "<a name=\"1\"></a>\n",
    "## 1 - Introduction\n",
    "\n",
    "**Your Task:** Below you'll find the `Node` and `LinkedList` class you saw in the lectures. Your job is to work alongside an LLM to update this class to be a doubly linked list, meaning each node has connections to both its previous and next node. Once you've done that, work with the LLM to further refine the class to account for other concerns common in software engineering like security concerns or scalability. \n",
    "\n",
    "**LLM Access:** You can access OpenAI's GPT-3.5 model [here](https://www.coursera.org/learn/introduction-to-generative-ai-for-software-development/ungradedLab/Vuqvf/gpt-3-5-environment), but feel free to use the LLM you want!\n",
    "\n",
    "**Practice Prompting:** Focus on trying out the prompting skills covered in the lectures:\n",
    "\n",
    "* **Be Specific:** In your prompts provide detail about what you're trying to accomplish and the context in which you're working. For example, it'd be totally appropriate to provide the LLM the class as it's already written and describe the new functionality you're trying to add.\n",
    "* **Provide Feedback:** Iteratively prompt the LLM and provide feedback on the output you receive to get closer to your expected results. In this case, you could try the code you develop alongside the LLM and report back on bugs, unexpected behavior, or stylistic decisions you want improved.\n",
    "* **Assign a Role:** Assign a role to tailor the output you receive from the LLM. At first you might just want to assign the role of \"an experienced Python developer\" but later on try out more specific or expert roles to focus on areas like security or scalability. \n",
    "\n",
    "**Testing Your Class:** At the bottom of this notebook you'll find different test cases that will help determine if your class works as expected. This lab is ungraded, however, so you don't need to pass all the test cases to move on. Focus instead on exploring what coding alongside an LLM is like, trying the prompting skills, and building your own intuitive sense of how LLMs will best fit into your software development workflow."
   ]
  },
  {
   "cell_type": "markdown",
   "metadata": {},
   "source": [
    "<a name=\"1.1\"></a>\n",
    "### 1.1 Importing necessary libraries"
   ]
  },
  {
   "cell_type": "code",
   "execution_count": 1,
   "metadata": {},
   "outputs": [],
   "source": [
    "import threading # Used to make the class thread-safe"
   ]
  },
  {
   "cell_type": "markdown",
   "metadata": {},
   "source": [
    "<a name=\"2\"></a>\n",
    "## 2 - The `Node` and `LinkedList` Classes to Update\n",
    "Below are the classes you saw in the lectures and that you will be editing. Recall that a linked list is made up of individual nodes that have connections between one another. This class initially is a singly linked list, meaning each node only knows the location of the node that comes after it in the linked list. In a doubly linked list the nodes also know the location of the node that comes before it. \n",
    "\n",
    "**Update both these classes to make the linked list doubly-linked.**"
   ]
  },
  {
   "cell_type": "code",
   "execution_count": 2,
   "metadata": {},
   "outputs": [],
   "source": [
    "class Node:\n",
    "    def __init__(self, data):\n",
    "        \"\"\"\n",
    "        Initialize a new node with the given data.\n",
    "        \n",
    "        :param data: The data to store in the node.\n",
    "        \"\"\"\n",
    "        self.data = data\n",
    "        self.next = None\n",
    "        self.prev = None\n",
    "\n",
    "class DoublyLinkedList:\n",
    "    def __init__(self, max_size=None):\n",
    "        \"\"\"\n",
    "        Initialize a new doubly linked list.\n",
    "        \n",
    "        :param max_size: The maximum number of elements the list can hold (optional).\n",
    "        \"\"\"\n",
    "        self.head = None\n",
    "        self.tail = None\n",
    "        self.size = 0\n",
    "        self.max_size = max_size\n",
    "        self.lock = threading.Lock()  # For thread safety\n",
    "\n",
    "    def add(self, data, position=None):\n",
    "        \"\"\"\n",
    "        Add a new element to the list at the specified position.\n",
    "        \n",
    "        :param data: The data to add to the list.\n",
    "        :param position: The position to add the new element (optional). If not specified, adds to the end.\n",
    "        \"\"\"\n",
    "        with self.lock:  # Ensure thread safety\n",
    "            if self.max_size is not None and self.size >= self.max_size:\n",
    "                print(\"Error: Linked list is full\")\n",
    "                return\n",
    "            new_node = Node(data)\n",
    "            if position is None or position >= self.size:\n",
    "                # Add to the end\n",
    "                if not self.head:\n",
    "                    self.head = self.tail = new_node\n",
    "                else:\n",
    "                    self.tail.next = new_node\n",
    "                    new_node.prev = self.tail\n",
    "                    self.tail = new_node\n",
    "            else:\n",
    "                # Add to a specific position\n",
    "                if position == 0:\n",
    "                    new_node.next = self.head\n",
    "                    self.head.prev = new_node\n",
    "                    self.head = new_node\n",
    "                else:\n",
    "                    current = self.head\n",
    "                    for _ in range(position - 1):\n",
    "                        current = current.next\n",
    "                    new_node.next = current.next\n",
    "                    new_node.prev = current\n",
    "                    if current.next:\n",
    "                        current.next.prev = new_node\n",
    "                    current.next = new_node\n",
    "            self.size += 1\n",
    "\n",
    "    def print_element(self, position):\n",
    "        \"\"\"\n",
    "        Print the element at the specified position.\n",
    "        \n",
    "        :param position: The position of the element to print.\n",
    "        \"\"\"\n",
    "        with self.lock:\n",
    "            if position >= self.size or position < 0:\n",
    "                print(\"Position out of bounds\")\n",
    "                return\n",
    "            current = self.head\n",
    "            for _ in range(position):\n",
    "                current = current.next\n",
    "            print(current.data)\n",
    "\n",
    "    def update(self, position, data):\n",
    "        \"\"\"\n",
    "        Update the element at the specified position with new data.\n",
    "        \n",
    "        :param position: The position of the element to update.\n",
    "        :param data: The new data to update the element with.\n",
    "        \"\"\"\n",
    "        with self.lock:\n",
    "            if position >= self.size or position < 0:\n",
    "                print(\"Position out of bounds\")\n",
    "                return\n",
    "            current = self.head\n",
    "            for _ in range(position):\n",
    "                current = current.next\n",
    "            current.data = data\n",
    "\n",
    "    def delete(self, position):\n",
    "        \"\"\"\n",
    "        Delete the element at the specified position.\n",
    "        \n",
    "        :param position: The position of the element to delete.\n",
    "        \"\"\"\n",
    "        with self.lock:\n",
    "            if position >= self.size or position < 0:\n",
    "                print(\"Position out of bounds\")\n",
    "                return\n",
    "            if position == 0:\n",
    "                self.head = self.head.next\n",
    "                if self.head:\n",
    "                    self.head.prev = None\n",
    "                else:\n",
    "                    self.tail = None\n",
    "            else:\n",
    "                current = self.head\n",
    "                for _ in range(position - 1):\n",
    "                    current = current.next\n",
    "                current.next = current.next.next\n",
    "                if current.next:\n",
    "                    current.next.prev = current\n",
    "                else:\n",
    "                    self.tail = current\n",
    "            self.size -= 1\n",
    "\n",
    "    def print_statistics(self):\n",
    "        \"\"\"\n",
    "        Print statistics about the linked list, including the number of active items and the total memory occupied.\n",
    "        \"\"\"\n",
    "        with self.lock:\n",
    "            print(f\"Number of active items: {self.size}\")\n",
    "            print(f\"Total memory occupied: {self.size * self.head.__sizeof__()} bytes\")\n",
    "\n",
    "    def __str__(self):\n",
    "        \"\"\"\n",
    "        Return a string representation of the linked list.\n",
    "        \n",
    "        :return: A string representation of the linked list.\n",
    "        \"\"\"\n",
    "        with self.lock:\n",
    "            elements = []\n",
    "            current = self.head\n",
    "            while current:\n",
    "                elements.append(current.data)\n",
    "                current = current.next\n",
    "            return \" <-> \".join(map(str, elements))\n",
    "\n",
    "    def print_list(self):\n",
    "        \"\"\"\n",
    "        Print the elements of the linked list.\n",
    "        \"\"\"\n",
    "        with self.lock:\n",
    "            current = self.head\n",
    "            while current:\n",
    "                print(current.data, end=\" \")\n",
    "                current = current.next\n",
    "            print()\n",
    "\n",
    "    def print_list_reverse(self):\n",
    "        \"\"\"\n",
    "        Print the elements of the linked list in reverse order.\n",
    "        \"\"\"\n",
    "        with self.lock:\n",
    "            current = self.tail\n",
    "            while current:\n",
    "                print(current.data, end=\" \")\n",
    "                current = current.prev\n",
    "            print()"
   ]
  },
  {
   "cell_type": "markdown",
   "metadata": {},
   "source": [
    "<a name=\"3\"></a>\n",
    "## 3 - Test Your Classes\n",
    "Below are three tests that should help you validate that your updated class is working as intended."
   ]
  },
  {
   "cell_type": "code",
   "execution_count": 4,
   "metadata": {},
   "outputs": [
    {
     "name": "stdout",
     "output_type": "stream",
     "text": [
      "A 1 0.1 \n"
     ]
    }
   ],
   "source": [
    "# Test 1 - Append Multiple Data Types\n",
    "# As initially designed not all data types can be added to the linked list.\n",
    "# Update the code to allow for additional data types.\n",
    "\n",
    "linked_list = DoublyLinkedList()\n",
    "linked_list.add(\"A\")\n",
    "linked_list.add(1)\n",
    "linked_list.add(0.1)\n",
    "linked_list.print_list()\n",
    "\n",
    "# Expected Output:\n",
    "# A 1 0.1"
   ]
  },
  {
   "cell_type": "code",
   "execution_count": 5,
   "metadata": {},
   "outputs": [
    {
     "name": "stdout",
     "output_type": "stream",
     "text": [
      "20 10 B A \n"
     ]
    }
   ],
   "source": [
    "# Test 2 - Print the Linked List in Reverse\n",
    "# Write the print_list_reverse method. Once your list is doubly linked\n",
    "# this should be a much easier method to write\n",
    "\n",
    "linked_list = DoublyLinkedList()\n",
    "linked_list.add(\"A\")\n",
    "linked_list.add(\"B\")\n",
    "linked_list.add(10)\n",
    "linked_list.add(20)\n",
    "linked_list.print_list_reverse()\n",
    "\n",
    "# Expected Output:\n",
    "# 20 10 B A"
   ]
  },
  {
   "cell_type": "code",
   "execution_count": 7,
   "metadata": {},
   "outputs": [
    {
     "name": "stdout",
     "output_type": "stream",
     "text": [
      "7.06 ms ± 1.13 ms per loop (mean ± std. dev. of 7 runs, 100 loops each)\n"
     ]
    }
   ],
   "source": [
    "%%timeit\n",
    "# Test 3 - Append 10,000 items rapidly\n",
    "# As initially written this is a very slow process. Your updated class\n",
    "# should be able to find the tail of your linked list (the last node)\n",
    "# very quickly, significantly speeding up this process.\n",
    "# Runtimes will vary substantially but as initially written the append method\n",
    "# will take well more than a second. A refactored doubly linked list class\n",
    "# should take significantly less than a second.\n",
    "\n",
    "linked_list = DoublyLinkedList()\n",
    "for i in range(10000):\n",
    "    linked_list.add(\"A\")"
   ]
  },
  {
   "cell_type": "markdown",
   "metadata": {},
   "source": [
    "<a name=\"4\"></a>\n",
    "## 4 - Go Further with Your LLM Prompting Skills\n",
    "\n",
    "The three tests above are simple checks that your class is doubly linked, but it's by no means comprehensive of every concern you'd have about the design of this class. Take some time to experiment with either additional functionality you'd want to add, or prompt the LLM to suggest additions based on new roles, like one of a security or scalability expert. Remember, the most important part of this activity is building your skills working with an LLM, so come up with interesting ways to test what these tools are able to help you accomplish."
   ]
  },
  {
   "cell_type": "code",
   "execution_count": null,
   "metadata": {},
   "outputs": [],
   "source": []
  }
 ],
 "metadata": {
  "kernelspec": {
   "display_name": "Python 3 (ipykernel)",
   "language": "python",
   "name": "python3"
  },
  "language_info": {
   "codemirror_mode": {
    "name": "ipython",
    "version": 3
   },
   "file_extension": ".py",
   "mimetype": "text/x-python",
   "name": "python",
   "nbconvert_exporter": "python",
   "pygments_lexer": "ipython3",
   "version": "3.11.6"
  }
 },
 "nbformat": 4,
 "nbformat_minor": 4
}
