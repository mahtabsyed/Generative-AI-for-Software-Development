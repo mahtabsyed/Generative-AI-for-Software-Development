{
  "cells": [
    {
      "cell_type": "code",
      "execution_count": 21,
      "metadata": {
        "executionInfo": {
          "elapsed": 188,
          "status": "ok",
          "timestamp": 1717883839717,
          "user": {
            "displayName": "Laurence Moroney",
            "userId": "17858265307580721507"
          },
          "user_tz": 420
        },
        "id": "62kqP_1Gylfo"
      },
      "outputs": [],
      "source": [
        "import time\n",
        "import timeit\n",
        "import cProfile\n",
        "def is_prime(n):\n",
        "    if n <= 1:\n",
        "        return False\n",
        "    for i in range(2, n):\n",
        "        if n % i == 0:\n",
        "            return False\n",
        "    return True\n",
        "\n",
        "def sum_of_primes_naive(numbers):\n",
        "    total = 0\n",
        "    for number in numbers:\n",
        "        if is_prime(number):\n",
        "            total += number\n",
        "    return total\n"
      ]
    },
    {
      "cell_type": "code",
      "execution_count": 22,
      "metadata": {
        "colab": {
          "base_uri": "https://localhost:8080/"
        },
        "executionInfo": {
          "elapsed": 41199,
          "status": "ok",
          "timestamp": 1717884269856,
          "user": {
            "displayName": "Laurence Moroney",
            "userId": "17858265307580721507"
          },
          "user_tz": 420
        },
        "id": "iMLK38E_1oxU",
        "outputId": "b803f404-401a-4488-faf2-9f6160ef64d4"
      },
      "outputs": [
        {
          "data": {
            "text/plain": [
              "454396537"
            ]
          },
          "execution_count": 22,
          "metadata": {},
          "output_type": "execute_result"
        }
      ],
      "source": [
        "# Generate a list of numbers\n",
        "numbers = list(range(1, 100000))\n",
        "sum_of_primes_naive(numbers)"
      ]
    },
    {
      "cell_type": "code",
      "execution_count": 23,
      "metadata": {
        "colab": {
          "base_uri": "https://localhost:8080/"
        },
        "executionInfo": {
          "elapsed": 40231,
          "status": "ok",
          "timestamp": 1717884310085,
          "user": {
            "displayName": "Laurence Moroney",
            "userId": "17858265307580721507"
          },
          "user_tz": 420
        },
        "id": "8gRZnb8G4P7O",
        "outputId": "a07f24d3-6576-4dd1-b8d8-50759ba48a6e"
      },
      "outputs": [
        {
          "name": "stdout",
          "output_type": "stream",
          "text": [
            "Execution time: 13.399623624995002 seconds\n"
          ]
        }
      ],
      "source": [
        "# Measure time using timeit\n",
        "# If you ever generate code to do this, make sure that you use the number parameter of timeit.timeit. This is the number of times the function will be called, and it defaults to one million.\n",
        "execution_time = timeit.timeit('sum_of_primes_naive(numbers)', globals=globals(), number=1)\n",
        "print(f\"Execution time: {execution_time} seconds\")"
      ]
    },
    {
      "cell_type": "code",
      "execution_count": 24,
      "metadata": {
        "colab": {
          "base_uri": "https://localhost:8080/"
        },
        "executionInfo": {
          "elapsed": 11051,
          "status": "ok",
          "timestamp": 1717884017573,
          "user": {
            "displayName": "Laurence Moroney",
            "userId": "17858265307580721507"
          },
          "user_tz": 420
        },
        "id": "GTcItCtD0u3y",
        "outputId": "c4cb77c8-3ba8-4707-f944-f9ac21f8699c"
      },
      "outputs": [
        {
          "name": "stdout",
          "output_type": "stream",
          "text": [
            "Execution time for sum_of_primes: 13.21814299999096 seconds\n"
          ]
        }
      ],
      "source": [
        "get_user_time = timeit.timeit(lambda: sum_of_primes_naive(numbers), number=1)\n",
        "print(f\"Execution time for sum_of_primes: {get_user_time} seconds\")"
      ]
    },
    {
      "cell_type": "code",
      "execution_count": 25,
      "metadata": {
        "colab": {
          "base_uri": "https://localhost:8080/"
        },
        "executionInfo": {
          "elapsed": 52418,
          "status": "ok",
          "timestamp": 1717884599707,
          "user": {
            "displayName": "Laurence Moroney",
            "userId": "17858265307580721507"
          },
          "user_tz": 420
        },
        "id": "ANFvfM1iywwr",
        "outputId": "3fa5ccd1-ec51-4a37-cbde-660d09058f3b"
      },
      "outputs": [
        {
          "name": "stdout",
          "output_type": "stream",
          "text": [
            "         100527 function calls (100520 primitive calls) in 13.484 seconds\n",
            "\n",
            "   Ordered by: standard name\n",
            "\n",
            "   ncalls  tottime  percall  cumtime  percall filename:lineno(function)\n",
            "        1    0.004    0.004    8.879    8.879 688565710.py:12(sum_of_primes_naive)\n",
            "    99999   13.472    0.000   13.472    0.000 688565710.py:4(is_prime)\n",
            "        2    0.000    0.000    0.000    0.000 <frozen abc>:121(__subclasscheck__)\n",
            "        3    0.000    0.000    0.000    0.000 <frozen importlib._bootstrap>:1390(_handle_fromlist)\n",
            "        1    0.000    0.000    8.879    8.879 <string>:1(<module>)\n",
            "        1    0.000    0.000    0.000    0.000 asyncio.py:225(add_callback)\n",
            "        3    0.000    0.000    0.000    0.000 attrsettr.py:43(__getattr__)\n",
            "        3    0.000    0.000    0.000    0.000 attrsettr.py:66(_get_attr_opt)\n",
            "        1    0.000    0.000    0.000    0.000 base_events.py:1905(_timer_handle_cancelled)\n",
            "        4    0.000    0.000    4.581    1.145 base_events.py:1910(_run_once)\n",
            "        5    0.000    0.000    0.000    0.000 base_events.py:2005(get_debug)\n",
            "        1    0.000    0.000    0.000    0.000 base_events.py:447(create_future)\n",
            "        3    0.000    0.000    0.000    0.000 base_events.py:539(_check_closed)\n",
            "        8    0.000    0.000    0.000    0.000 base_events.py:734(time)\n",
            "        1    0.000    0.000    0.000    0.000 base_events.py:743(call_later)\n",
            "        1    0.000    0.000    0.000    0.000 base_events.py:767(call_at)\n",
            "        2    0.000    0.000    0.000    0.000 base_events.py:785(call_soon)\n",
            "        2    0.000    0.000    0.000    0.000 base_events.py:814(_call_soon)\n",
            "        1    0.000    0.000    0.000    0.000 decorator.py:199(fix)\n",
            "        1    0.000    0.000    0.018    0.018 decorator.py:229(fun)\n",
            "       18    0.000    0.000    0.000    0.000 enum.py:1129(__new__)\n",
            "       42    0.000    0.000    0.000    0.000 enum.py:1544(_get_value)\n",
            "        9    0.000    0.000    0.000    0.000 enum.py:1551(__or__)\n",
            "        5    0.000    0.000    0.000    0.000 enum.py:1562(__and__)\n",
            "       18    0.000    0.000    0.000    0.000 enum.py:726(__call__)\n",
            "        1    0.000    0.000    0.000    0.000 events.py:111(__init__)\n",
            "        1    0.000    0.000    0.000    0.000 events.py:155(cancel)\n",
            "        3    0.000    0.000    0.000    0.000 events.py:36(__init__)\n",
            "        1    0.000    0.000    0.000    0.000 events.py:72(cancel)\n",
            "        4    0.000    0.000    0.042    0.011 events.py:86(_run)\n",
            "        1    0.000    0.000    0.000    0.000 futures.py:311(_set_result_unless_cancelled)\n",
            "        1    0.000    0.000    0.018    0.018 history.py:55(only_when_enabled)\n",
            "        1    0.000    0.000    0.018    0.018 history.py:833(_writeout_input_cache)\n",
            "        1    0.000    0.000    0.000    0.000 history.py:839(_writeout_output_cache)\n",
            "        1    0.000    0.000    0.018    0.018 history.py:845(writeout_cache)\n",
            "        4    0.000    0.000    0.000    0.000 inspect.py:2765(name)\n",
            "       10    0.000    0.000    0.000    0.000 inspect.py:2777(kind)\n",
            "        1    0.000    0.000    0.000    0.000 inspect.py:2857(__init__)\n",
            "        1    0.000    0.000    0.000    0.000 inspect.py:2865(args)\n",
            "        1    0.000    0.000    0.000    0.000 inspect.py:2888(kwargs)\n",
            "        1    0.000    0.000    0.000    0.000 inspect.py:2918(apply_defaults)\n",
            "        4    0.000    0.000    0.000    0.000 inspect.py:3058(parameters)\n",
            "        1    0.000    0.000    0.000    0.000 inspect.py:3102(_bind)\n",
            "        1    0.000    0.000    0.000    0.000 inspect.py:3237(bind)\n",
            "        2    0.000    0.000    0.042    0.021 ioloop.py:742(_run_callback)\n",
            "        1    0.000    0.000    0.000    0.000 iostream.py:118(_run_event_pipe_gc)\n",
            "        1    0.000    0.000    0.000    0.000 iostream.py:127(_event_pipe_gc)\n",
            "        1    0.000    0.000    0.042    0.042 iostream.py:157(_handle_event)\n",
            "        1    0.000    0.000    0.000    0.000 iostream.py:213(_is_master_process)\n",
            "        1    0.000    0.000    0.000    0.000 iostream.py:216(_check_mp_mode)\n",
            "        1    0.000    0.000    0.000    0.000 iostream.py:255(closed)\n",
            "        1    0.000    0.000    0.042    0.042 iostream.py:276(<lambda>)\n",
            "        1    0.000    0.000    0.042    0.042 iostream.py:278(_really_send)\n",
            "        1    0.000    0.000    0.000    0.000 iostream.py:616(_flush)\n",
            "        1    0.000    0.000    0.000    0.000 iostream.py:710(_flush_buffers)\n",
            "        1    0.000    0.000    0.000    0.000 iostream.py:718(_rotate_buffers)\n",
            "        2    0.000    0.000    0.000    0.000 queue.py:209(_qsize)\n",
            "        2    0.000    0.000    0.000    0.000 queue.py:97(empty)\n",
            "        4    0.000    0.000    0.000    0.000 selector_events.py:750(_process_events)\n",
            "        4    0.004    0.001    4.539    1.135 selectors.py:558(select)\n",
            "        9    0.000    0.000    0.013    0.001 socket.py:626(send)\n",
            "        1    0.000    0.000    0.029    0.029 socket.py:703(send_multipart)\n",
            "        1    0.000    0.000    0.000    0.000 socket.py:774(recv_multipart)\n",
            "        2    0.000    0.000    0.000    0.000 tasks.py:653(sleep)\n",
            "        3    0.000    0.000    0.000    0.000 threading.py:1153(_wait_for_tstate_lock)\n",
            "        3    0.000    0.000    0.000    0.000 threading.py:1220(is_alive)\n",
            "        2    0.000    0.000    0.000    0.000 threading.py:299(__enter__)\n",
            "        2    0.000    0.000    0.000    0.000 threading.py:302(__exit__)\n",
            "        1    0.000    0.000    0.000    0.000 threading.py:308(_release_save)\n",
            "        1    0.000    0.000    0.000    0.000 threading.py:311(_acquire_restore)\n",
            "        1    0.000    0.000    0.000    0.000 threading.py:314(_is_owned)\n",
            "        3    0.000    0.000    0.000    0.000 threading.py:601(is_set)\n",
            "        1    0.000    0.000    0.000    0.000 threading.py:627(clear)\n",
            "        1    0.000    0.000    0.000    0.000 traitlets.py:1512(_notify_trait)\n",
            "        1    0.000    0.000    0.000    0.000 traitlets.py:1523(notify_change)\n",
            "        1    0.000    0.000    0.000    0.000 traitlets.py:1527(_notify_observers)\n",
            "        2    0.000    0.000    0.000    0.000 traitlets.py:2304(validate)\n",
            "        2    0.000    0.000    0.000    0.000 traitlets.py:3474(validate)\n",
            "        2    0.000    0.000    0.000    0.000 traitlets.py:3486(validate_elements)\n",
            "        2    0.000    0.000    0.000    0.000 traitlets.py:3624(validate_elements)\n",
            "        2    0.000    0.000    0.000    0.000 traitlets.py:3631(set)\n",
            "        6    0.000    0.000    0.000    0.000 traitlets.py:629(get)\n",
            "        6    0.000    0.000    0.000    0.000 traitlets.py:676(__get__)\n",
            "        2    0.000    0.000    0.000    0.000 traitlets.py:689(set)\n",
            "        2    0.000    0.000    0.000    0.000 traitlets.py:708(__set__)\n",
            "        2    0.000    0.000    0.000    0.000 traitlets.py:718(_validate)\n",
            "        2    0.000    0.000    0.000    0.000 traitlets.py:727(_cross_validate)\n",
            "        2    0.000    0.000    0.000    0.000 typing.py:1194(__instancecheck__)\n",
            "        2    0.000    0.000    0.000    0.000 typing.py:1258(__hash__)\n",
            "        2    0.000    0.000    0.000    0.000 typing.py:1465(__subclasscheck__)\n",
            "       23    0.000    0.000    0.000    0.000 typing.py:2154(cast)\n",
            "        3    0.000    0.000    0.000    0.000 typing.py:392(inner)\n",
            "        3    0.000    0.000    0.000    0.000 zmqstream.py:538(receiving)\n",
            "        2    0.000    0.000    0.000    0.000 zmqstream.py:542(sending)\n",
            "        1    0.000    0.000    0.042    0.042 zmqstream.py:556(_run_callback)\n",
            "        1    0.000    0.000    0.042    0.042 zmqstream.py:583(_handle_events)\n",
            "        1    0.000    0.000    0.042    0.042 zmqstream.py:624(_handle_recv)\n",
            "        2    0.000    0.000    0.000    0.000 zmqstream.py:663(_rebuild_io_state)\n",
            "        2    0.000    0.000    0.000    0.000 zmqstream.py:686(_update_handler)\n",
            "        1    0.000    0.000    0.042    0.042 zmqstream.py:694(<lambda>)\n",
            "        2    0.000    0.000    0.000    0.000 {built-in method _abc._abc_subclasscheck}\n",
            "        2    0.000    0.000    0.000    0.000 {built-in method _asyncio.get_running_loop}\n",
            "        2    0.000    0.000    0.000    0.000 {built-in method _contextvars.copy_context}\n",
            "        2    0.000    0.000    0.000    0.000 {built-in method _heapq.heappop}\n",
            "        1    0.000    0.000    0.000    0.000 {built-in method _heapq.heappush}\n",
            "        1    0.000    0.000    0.000    0.000 {built-in method _thread.allocate_lock}\n",
            "        3    0.000    0.000    0.000    0.000 {built-in method builtins.getattr}\n",
            "        8    0.000    0.000    0.000    0.000 {built-in method builtins.hasattr}\n",
            "        2    0.000    0.000    0.000    0.000 {built-in method builtins.hash}\n",
            "    93/89    0.000    0.000    0.000    0.000 {built-in method builtins.isinstance}\n",
            "        2    0.000    0.000    0.000    0.000 {built-in method builtins.issubclass}\n",
            "        2    0.000    0.000    0.000    0.000 {built-in method builtins.iter}\n",
            "       14    0.000    0.000    0.000    0.000 {built-in method builtins.len}\n",
            "        8    0.000    0.000    0.000    0.000 {built-in method builtins.max}\n",
            "        3    0.000    0.000    0.000    0.000 {built-in method builtins.min}\n",
            "        6    0.000    0.000    0.000    0.000 {built-in method builtins.next}\n",
            "        1    0.000    0.000    0.000    0.000 {built-in method posix.getpid}\n",
            "        8    0.000    0.000    0.000    0.000 {built-in method time.monotonic}\n",
            "        2    0.000    0.000    0.000    0.000 {method '__enter__' of '_thread.lock' objects}\n",
            "        1    0.000    0.000    0.000    0.000 {method '__exit__' of '_thread.RLock' objects}\n",
            "        7    0.000    0.000    0.000    0.000 {method '__exit__' of '_thread.lock' objects}\n",
            "        2    0.000    0.000    0.000    0.000 {method '__exit__' of 'sqlite3.Connection' objects}\n",
            "      6/3    0.000    0.000    0.000    0.000 {method 'acquire' of '_thread.lock' objects}\n",
            "        5    0.000    0.000    0.000    0.000 {method 'append' of 'collections.deque' objects}\n",
            "        4    0.000    0.000    0.000    0.000 {method 'append' of 'list' objects}\n",
            "        1    0.000    0.000    0.000    0.000 {method 'cancelled' of '_asyncio.Future' objects}\n",
            "        4    0.002    0.001    0.002    0.001 {method 'control' of 'select.kqueue' objects}\n",
            "        1    0.000    0.000    0.000    0.000 {method 'disable' of '_lsprof.Profiler' objects}\n",
            "        1    0.000    0.000    0.000    0.000 {method 'execute' of 'sqlite3.Connection' objects}\n",
            "        2    0.000    0.000    0.000    0.000 {method 'extend' of 'list' objects}\n",
            "        4    0.000    0.000    0.000    0.000 {method 'get' of 'dict' objects}\n",
            "        2    0.000    0.000    0.000    0.000 {method 'items' of 'dict' objects}\n",
            "        3    0.000    0.000    0.000    0.000 {method 'items' of 'mappingproxy' objects}\n",
            "        5    0.000    0.000    0.000    0.000 {method 'popleft' of 'collections.deque' objects}\n",
            "        1    0.000    0.000    0.000    0.000 {method 'release' of '_thread.lock' objects}\n",
            "        4    0.000    0.000    0.042    0.011 {method 'run' of '_contextvars.Context' objects}\n",
            "        1    0.000    0.000    0.000    0.000 {method 'set_result' of '_asyncio.Future' objects}\n",
            "        3    0.000    0.000    0.000    0.000 {method 'upper' of 'str' objects}\n",
            "        1    0.000    0.000    0.000    0.000 {method 'values' of 'mappingproxy' objects}\n",
            "\n",
            "\n"
          ]
        }
      ],
      "source": [
        "cProfile.run('sum_of_primes_naive(numbers)')"
      ]
    },
    {
      "cell_type": "code",
      "execution_count": null,
      "metadata": {
        "colab": {
          "base_uri": "https://localhost:8080/"
        },
        "executionInfo": {
          "elapsed": 205,
          "status": "ok",
          "timestamp": 1717885644131,
          "user": {
            "displayName": "Laurence Moroney",
            "userId": "17858265307580721507"
          },
          "user_tz": 420
        },
        "id": "5mt_SJ74ymKS",
        "outputId": "57794678-538e-414a-89ce-d8f408a789ac"
      },
      "outputs": [],
      "source": [
        "import math\n",
        "\n",
        "def is_prime_optimized(n):\n",
        "    if n <= 1:\n",
        "        return False\n",
        "    if n <= 3:\n",
        "        return True\n",
        "    if n % 2 == 0 or n % 3 == 0:\n",
        "        return False\n",
        "    i = 5\n",
        "    while i * i <= n:\n",
        "        if n % i == 0 or n % (i + 2) == 0:\n",
        "            return False\n",
        "        i += 6\n",
        "    return True\n",
        "\n",
        "def sum_of_primes_optimized(numbers):\n",
        "    total = 0\n",
        "    for number in numbers:\n",
        "        if is_prime_optimized(number):\n",
        "            total += number\n",
        "    return total\n",
        "\n",
        "# Measure the time taken by the optimized implementation\n",
        "start_time = time.time()\n",
        "total_optimized = sum_of_primes_optimized(numbers)\n",
        "print(f\"Optimized Implementation: Sum of primes = {total_optimized}, Time taken = {time.time() - start_time} seconds\")\n"
      ]
    },
    {
      "cell_type": "code",
      "execution_count": null,
      "metadata": {
        "colab": {
          "base_uri": "https://localhost:8080/"
        },
        "executionInfo": {
          "elapsed": 205,
          "status": "ok",
          "timestamp": 1717885646713,
          "user": {
            "displayName": "Laurence Moroney",
            "userId": "17858265307580721507"
          },
          "user_tz": 420
        },
        "id": "hInww94b6IEU",
        "outputId": "2d0c27b9-0ee7-4d61-ed1e-7bb0cb4e69b8"
      },
      "outputs": [],
      "source": [
        "get_user_time = timeit.timeit(lambda: sum_of_primes_optimized(numbers), number=1)\n",
        "print(f\"Execution time for sum_of_primes: {get_user_time} seconds\")"
      ]
    },
    {
      "cell_type": "code",
      "execution_count": null,
      "metadata": {
        "colab": {
          "base_uri": "https://localhost:8080/"
        },
        "executionInfo": {
          "elapsed": 477,
          "status": "ok",
          "timestamp": 1717885650015,
          "user": {
            "displayName": "Laurence Moroney",
            "userId": "17858265307580721507"
          },
          "user_tz": 420
        },
        "id": "9nJGMgs-y-YN",
        "outputId": "6f947452-01b8-4f4b-852e-6e8329ed6b44"
      },
      "outputs": [],
      "source": [
        "cProfile.run('sum_of_primes_optimized(numbers)')"
      ]
    },
    {
      "cell_type": "code",
      "execution_count": null,
      "metadata": {
        "colab": {
          "base_uri": "https://localhost:8080/"
        },
        "executionInfo": {
          "elapsed": 1068,
          "status": "ok",
          "timestamp": 1717882774096,
          "user": {
            "displayName": "Laurence Moroney",
            "userId": "17858265307580721507"
          },
          "user_tz": 420
        },
        "id": "wsyxgdMYyoEZ",
        "outputId": "cde1f184-602d-4b5d-e83a-d39de6ea6718"
      },
      "outputs": [],
      "source": [
        "import time\n",
        "import math\n",
        "\n",
        "# Naive primality check\n",
        "def is_prime(n):\n",
        "    if n <= 1:\n",
        "        return False\n",
        "    for i in range(2, n):\n",
        "        if n % i == 0:\n",
        "            return False\n",
        "    return True\n",
        "\n",
        "# Optimized primality check\n",
        "def is_prime_optimized(n):\n",
        "    if n <= 1:\n",
        "        return False\n",
        "    if n <= 3:\n",
        "        return True\n",
        "    if n % 2 == 0 or n % 3 == 0:\n",
        "        return False\n",
        "    i = 5\n",
        "    while i * i <= n:\n",
        "        if n % i == 0 or n % (i + 2) == 0:\n",
        "            return False\n",
        "        i += 6\n",
        "    return True\n",
        "\n",
        "# Naive sum of primes\n",
        "def sum_of_primes_naive(numbers):\n",
        "    total = 0\n",
        "    for number in numbers:\n",
        "        if is_prime(number):\n",
        "            total += number\n",
        "    return total\n",
        "\n",
        "# Optimized sum of primes\n",
        "def sum_of_primes_optimized(numbers):\n",
        "    total = 0\n",
        "    for number in numbers:\n",
        "        if is_prime_optimized(number):\n",
        "            total += number\n",
        "    return total\n",
        "\n",
        "# Generate a list of numbers\n",
        "numbers = list(range(1, 10000))\n",
        "\n",
        "# Measure the time taken by the naive implementation\n",
        "start_time = time.time()\n",
        "total_naive = sum_of_primes_naive(numbers)\n",
        "print(f\"Naive Implementation: Sum of primes = {total_naive}, Time taken = {time.time() - start_time} seconds\")\n",
        "\n",
        "# Measure the time taken by the optimized implementation\n",
        "start_time = time.time()\n",
        "total_optimized = sum_of_primes_optimized(numbers)\n",
        "print(f\"Optimized Implementation: Sum of primes = {total_optimized}, Time taken = {time.time() - start_time} seconds\")\n"
      ]
    },
    {
      "cell_type": "code",
      "execution_count": null,
      "metadata": {
        "colab": {
          "base_uri": "https://localhost:8080/"
        },
        "executionInfo": {
          "elapsed": 2063,
          "status": "ok",
          "timestamp": 1717882583699,
          "user": {
            "displayName": "Laurence Moroney",
            "userId": "17858265307580721507"
          },
          "user_tz": 420
        },
        "id": "lu3mWMkex-Jw",
        "outputId": "a94b3d35-21a7-4bde-97a0-7a5a15d5aeb6"
      },
      "outputs": [],
      "source": [
        "import time\n",
        "import numpy as np\n",
        "\n",
        "# Naive matrix multiplication\n",
        "def naive_matrix_multiply(A, B):\n",
        "    n = len(A)\n",
        "    C = [[0] * n for _ in range(n)]\n",
        "    for i in range(n):\n",
        "        for j in range(n):\n",
        "            for k in range(n):\n",
        "                C[i][j] += A[i][k] * B[k][j]\n",
        "    return C\n",
        "\n",
        "# Generate random matrices\n",
        "n = 200\n",
        "A = np.random.rand(n, n).tolist()\n",
        "B = np.random.rand(n, n).tolist()\n",
        "\n",
        "start_time = time.time()\n",
        "C_naive = naive_matrix_multiply(A, B)\n",
        "print(f\"Naive Matrix Multiplication Time: {time.time() - start_time} seconds\")\n"
      ]
    },
    {
      "cell_type": "code",
      "execution_count": null,
      "metadata": {
        "colab": {
          "base_uri": "https://localhost:8080/"
        },
        "executionInfo": {
          "elapsed": 3582,
          "status": "ok",
          "timestamp": 1717882668756,
          "user": {
            "displayName": "Laurence Moroney",
            "userId": "17858265307580721507"
          },
          "user_tz": 420
        },
        "id": "iOhXSknWyOyf",
        "outputId": "78946b0f-a1aa-4a0b-c8f6-5f6761950a76"
      },
      "outputs": [],
      "source": [
        "cProfile.run('naive_matrix_multiply(A, B)')"
      ]
    },
    {
      "cell_type": "code",
      "execution_count": null,
      "metadata": {
        "colab": {
          "base_uri": "https://localhost:8080/"
        },
        "executionInfo": {
          "elapsed": 200,
          "status": "ok",
          "timestamp": 1717882600535,
          "user": {
            "displayName": "Laurence Moroney",
            "userId": "17858265307580721507"
          },
          "user_tz": 420
        },
        "id": "4uANWZQKyDAP",
        "outputId": "25e71d94-6d87-4473-90b0-f61ab3d2edbf"
      },
      "outputs": [],
      "source": [
        "# Optimized matrix multiplication using NumPy\n",
        "start_time = time.time()\n",
        "C_optimized = np.dot(A, B)\n",
        "print(f\"Optimized Matrix Multiplication Time: {time.time() - start_time} seconds\")\n"
      ]
    },
    {
      "cell_type": "code",
      "execution_count": null,
      "metadata": {
        "colab": {
          "base_uri": "https://localhost:8080/"
        },
        "executionInfo": {
          "elapsed": 1056,
          "status": "ok",
          "timestamp": 1717882264238,
          "user": {
            "displayName": "Laurence Moroney",
            "userId": "17858265307580721507"
          },
          "user_tz": 420
        },
        "id": "nhPutqv_s1c7",
        "outputId": "e99800f2-d9ee-40de-dc85-6c9b1b0b5d7c"
      },
      "outputs": [],
      "source": [
        "# Import necessary libraries\n",
        "import random\n",
        "import heapq\n",
        "import timeit\n",
        "import cProfile\n",
        "\n",
        "# Generate a large, sparse directed graph\n",
        "def generate_graph(num_nodes, max_edges_per_node):\n",
        "    graph = {i: [] for i in range(num_nodes)}\n",
        "    for i in range(num_nodes):\n",
        "        num_edges = min_edges_per_node + random.randint(1, (max_edges_per_node-min_edges_per_node))\n",
        "        for _ in range(num_edges):\n",
        "            target = random.randint(0, num_nodes - 1)\n",
        "            weight = int(random.uniform(1, 10))\n",
        "            graph[i].append((target, weight))\n",
        "    return graph\n",
        "\n",
        "# Create a graph with 1000 nodes and up to 10 edges per node\n",
        "num_nodes = 1000\n",
        "min_edges_per_node = 100\n",
        "max_edges_per_node = 900\n",
        "graph = generate_graph(num_nodes, max_edges_per_node)\n",
        "\n",
        "print(\"Graph generation complete.\")\n"
      ]
    },
    {
      "cell_type": "code",
      "execution_count": null,
      "metadata": {
        "colab": {
          "base_uri": "https://localhost:8080/"
        },
        "executionInfo": {
          "elapsed": 210,
          "status": "ok",
          "timestamp": 1717882266396,
          "user": {
            "displayName": "Laurence Moroney",
            "userId": "17858265307580721507"
          },
          "user_tz": 420
        },
        "id": "Unoce-OEtD3Z",
        "outputId": "730cff43-c7b5-4c3c-dc88-6065fc30b57b"
      },
      "outputs": [],
      "source": [
        "print(graph)"
      ]
    },
    {
      "cell_type": "code",
      "execution_count": null,
      "metadata": {
        "colab": {
          "base_uri": "https://localhost:8080/"
        },
        "executionInfo": {
          "elapsed": 198,
          "status": "ok",
          "timestamp": 1717882272164,
          "user": {
            "displayName": "Laurence Moroney",
            "userId": "17858265307580721507"
          },
          "user_tz": 420
        },
        "id": "Ydub6Lfos4G5",
        "outputId": "75b7f6ba-a8c8-4748-ad2c-9510bfee923e"
      },
      "outputs": [],
      "source": [
        "# Import necessary libraries\n",
        "import random\n",
        "import heapq\n",
        "import timeit\n",
        "import cProfile\n",
        "\n",
        "# Implement Dijkstra's algorithm\n",
        "def dijkstra(graph, start, goal):\n",
        "    queue = [(0, start)]\n",
        "    distances = {node: float('inf') for node in graph}\n",
        "    distances[start] = 0\n",
        "    previous_nodes = {node: None for node in graph}\n",
        "\n",
        "    while queue:\n",
        "        current_distance, current_node = heapq.heappop(queue)\n",
        "\n",
        "        if current_node == goal:\n",
        "            break\n",
        "\n",
        "        if current_distance > distances[current_node]:\n",
        "            continue\n",
        "\n",
        "        for neighbor, weight in graph[current_node]:\n",
        "            distance = current_distance + weight\n",
        "            if distance < distances[neighbor]:\n",
        "                distances[neighbor] = distance\n",
        "                previous_nodes[neighbor] = current_node\n",
        "                heapq.heappush(queue, (distance, neighbor))\n",
        "\n",
        "    path = []\n",
        "    current = goal\n",
        "    while current is not None:\n",
        "        path.append(current)\n",
        "        current = previous_nodes[current]\n",
        "    path.reverse()\n",
        "\n",
        "    if distances[goal] == float('inf'):\n",
        "        return [], float('inf')  # If there's no path to the goal\n",
        "\n",
        "    return path, distances[goal]\n",
        "\n",
        "# Test Dijkstra's algorithm with different start and goal nodes\n",
        "start_node = 0\n",
        "goal_node = 500  # Test with a different goal node\n",
        "\n",
        "print(\"Testing Dijkstra's algorithm...\")\n",
        "path, distance = dijkstra(graph, start_node, goal_node)\n",
        "print(f\"Shortest path from {start_node} to {goal_node}: {path}\")\n",
        "print(f\"Total distance: {distance}\")\n",
        "\n",
        "start_node = 100\n",
        "goal_node = 200  # Test with another different goal node\n",
        "\n",
        "print(\"Testing Dijkstra's algorithm with different start and goal...\")\n",
        "path, distance = dijkstra(graph, start_node, goal_node)\n",
        "print(f\"Shortest path from {start_node} to {goal_node}: {path}\")\n",
        "print(f\"Total distance: {distance}\")\n",
        "\n",
        "start_node = 999\n",
        "goal_node = 0  # Test with goal node at the start\n",
        "\n",
        "print(\"Testing Dijkstra's algorithm with reversed start and goal...\")\n",
        "path, distance = dijkstra(graph, start_node, goal_node)\n",
        "print(f\"Shortest path from {start_node} to {goal_node}: {path}\")\n",
        "print(f\"Total distance: {distance}\")\n"
      ]
    },
    {
      "cell_type": "code",
      "execution_count": null,
      "metadata": {
        "colab": {
          "base_uri": "https://localhost:8080/"
        },
        "executionInfo": {
          "elapsed": 206,
          "status": "ok",
          "timestamp": 1717882287132,
          "user": {
            "displayName": "Laurence Moroney",
            "userId": "17858265307580721507"
          },
          "user_tz": 420
        },
        "id": "gxbRU_GTs7YV",
        "outputId": "d7b8c188-17f6-4e8d-db59-874f76c5b748"
      },
      "outputs": [],
      "source": [
        "# Measure execution time of Dijkstra's algorithm\n",
        "dijkstra_time = timeit.timeit(lambda: dijkstra(graph, start_node, goal_node), number=1)\n",
        "print(f\"Execution time for Dijkstra's algorithm: {dijkstra_time} seconds\")\n"
      ]
    },
    {
      "cell_type": "code",
      "execution_count": null,
      "metadata": {
        "colab": {
          "base_uri": "https://localhost:8080/"
        },
        "executionInfo": {
          "elapsed": 4232,
          "status": "ok",
          "timestamp": 1717882316542,
          "user": {
            "displayName": "Laurence Moroney",
            "userId": "17858265307580721507"
          },
          "user_tz": 420
        },
        "id": "e8o8ko2wtJwp",
        "outputId": "14ca63f7-eac8-4ad1-e15a-82a4fb7cc7be"
      },
      "outputs": [],
      "source": [
        "# Do 100 examples\n",
        "for i in range(100):\n",
        "    start_node = random.randint(0, num_nodes - 1)\n",
        "    goal_node = random.randint(0, num_nodes - 1)\n",
        "\n",
        "    # Measure the execution time of the Dijkstra's algorithm\n",
        "    start_time = timeit.default_timer()\n",
        "    path, distance = dijkstra(graph, start_node, goal_node)\n",
        "    end_time = timeit.default_timer()\n",
        "\n",
        "    dijkstra_time = end_time - start_time\n",
        "\n",
        "    print(f\"Execution time for Dijkstra's algorithm: {dijkstra_time:.6f} seconds\")\n",
        "    #print(f\"Shortest path from {start_node} to {goal_node}: {path}\")\n",
        "    #print(f\"Total distance: {distance}\")"
      ]
    },
    {
      "cell_type": "code",
      "execution_count": null,
      "metadata": {
        "colab": {
          "base_uri": "https://localhost:8080/"
        },
        "executionInfo": {
          "elapsed": 3,
          "status": "ok",
          "timestamp": 1717882510013,
          "user": {
            "displayName": "Laurence Moroney",
            "userId": "17858265307580721507"
          },
          "user_tz": 420
        },
        "id": "2f1GQffpv-Kk",
        "outputId": "d46fe44b-a089-4276-c2cd-4fb7d04f5b5d"
      },
      "outputs": [],
      "source": [
        "#start_node = random.randint(0, num_nodes - 1)\n",
        "#goal_node = random.randint(0, num_nodes - 1)\n",
        "start_node = 1\n",
        "end_node = 20\n",
        "cProfile.run('dijkstra(graph, start_node, goal_node)')"
      ]
    },
    {
      "cell_type": "code",
      "execution_count": 19,
      "metadata": {
        "executionInfo": {
          "elapsed": 205,
          "status": "ok",
          "timestamp": 1717882430206,
          "user": {
            "displayName": "Laurence Moroney",
            "userId": "17858265307580721507"
          },
          "user_tz": 420
        },
        "id": "ZSXnk80ZwDjn"
      },
      "outputs": [],
      "source": [
        "# Implement Dijkstra's algorithm\n",
        "def faster_dijkstra(graph, start, goal):\n",
        "    queue = [(0, start)]\n",
        "    distances = {node: float('inf') for node in graph}\n",
        "    distances[start] = 0\n",
        "    previous_nodes = {node: None for node in graph}\n",
        "    visited = set()\n",
        "\n",
        "    while queue:\n",
        "        current_distance, current_node = heapq.heappop(queue)\n",
        "\n",
        "        if current_node in visited:\n",
        "            continue\n",
        "        visited.add(current_node)\n",
        "\n",
        "        if current_node == goal:\n",
        "            break\n",
        "\n",
        "        for neighbor, weight in graph[current_node]:\n",
        "            if neighbor in visited:\n",
        "                continue\n",
        "            distance = current_distance + weight\n",
        "            if distance < distances[neighbor]:\n",
        "                distances[neighbor] = distance\n",
        "                previous_nodes[neighbor] = current_node\n",
        "                heapq.heappush(queue, (distance, neighbor))\n",
        "\n",
        "    path = []\n",
        "    current = goal\n",
        "    while current is not None:\n",
        "        path.append(current)\n",
        "        current = previous_nodes[current]\n",
        "    path.reverse()\n",
        "\n",
        "    if distances[goal] == float('inf'):\n",
        "        return [], float('inf')  # If there's no path to the goal\n",
        "\n",
        "    return path, distances[goal]"
      ]
    },
    {
      "cell_type": "code",
      "execution_count": null,
      "metadata": {
        "colab": {
          "base_uri": "https://localhost:8080/"
        },
        "executionInfo": {
          "elapsed": 218,
          "status": "ok",
          "timestamp": 1717882514583,
          "user": {
            "displayName": "Laurence Moroney",
            "userId": "17858265307580721507"
          },
          "user_tz": 420
        },
        "id": "aUMrBpEAxb_c",
        "outputId": "8e8d0356-01fd-4c2a-a06e-b5e322059361"
      },
      "outputs": [],
      "source": [
        "start_node = 1\n",
        "goal_node = 200\n",
        "cProfile.run('dijkstra(graph, start_node, goal_node)')"
      ]
    }
  ],
  "metadata": {
    "colab": {
      "authorship_tag": "ABX9TyNkrT5Jl+R5OS7nYZnRYW5j",
      "provenance": []
    },
    "kernelspec": {
      "display_name": ".venv",
      "language": "python",
      "name": "python3"
    },
    "language_info": {
      "codemirror_mode": {
        "name": "ipython",
        "version": 3
      },
      "file_extension": ".py",
      "mimetype": "text/x-python",
      "name": "python",
      "nbconvert_exporter": "python",
      "pygments_lexer": "ipython3",
      "version": "3.12.3"
    }
  },
  "nbformat": 4,
  "nbformat_minor": 0
}
