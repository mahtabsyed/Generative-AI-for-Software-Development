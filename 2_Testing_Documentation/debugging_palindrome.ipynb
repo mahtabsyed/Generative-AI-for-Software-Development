{
 "cells": [
  {
   "cell_type": "markdown",
   "metadata": {},
   "source": [
    "### Palindrome - Find and fix the bug"
   ]
  },
  {
   "cell_type": "code",
   "execution_count": null,
   "metadata": {},
   "outputs": [],
   "source": [
    "# Can you rewrite to ignore punctuation marks and white spaces withuot using re and use Pythons inbuilt functions.\n",
    "\n",
    "\n",
    "def is_palindrome(sentence):\n",
    "    # Convert integer to string if the input is an integer\n",
    "    if isinstance(sentence, int):\n",
    "        sentence = str(sentence)\n",
    "\n",
    "    # Remove punctuation marks and white spaces, and convert to lower case\n",
    "    sentence = \"\".join(char.lower() for char in sentence if char.isalnum())\n",
    "\n",
    "    # Compare characters from both ends\n",
    "    left, right = 0, len(sentence) - 1\n",
    "    while left <= right:\n",
    "        if sentence[left] != sentence[right]:\n",
    "            return False\n",
    "        left += 1\n",
    "        right -= 1\n",
    "    return True"
   ]
  },
  {
   "cell_type": "code",
   "execution_count": null,
   "metadata": {},
   "outputs": [],
   "source": [
    "import re\n",
    "\n",
    "\n",
    "def is_palindrome(sentence):\n",
    "    # Convert integer to string if the input is an integer\n",
    "    if isinstance(sentence, int):\n",
    "        sentence = str(sentence)\n",
    "\n",
    "    # Remove punctuation marks and white spaces, and convert to lower case\n",
    "    sentence = re.sub(r\"[^a-zA-Z0-9]\", \"\", sentence).lower()\n",
    "\n",
    "    # Compare characters from both ends\n",
    "    left, right = 0, len(sentence) - 1\n",
    "    while left <= right:\n",
    "        if sentence[left] != sentence[right]:\n",
    "            return False\n",
    "        left += 1\n",
    "        right -= 1\n",
    "    return True"
   ]
  },
  {
   "cell_type": "code",
   "execution_count": 3,
   "metadata": {},
   "outputs": [
    {
     "data": {
      "text/plain": [
       "True"
      ]
     },
     "execution_count": 3,
     "metadata": {},
     "output_type": "execute_result"
    }
   ],
   "source": [
    "is_palindrome(123321)"
   ]
  },
  {
   "cell_type": "code",
   "execution_count": 4,
   "metadata": {},
   "outputs": [
    {
     "data": {
      "text/plain": [
       "True"
      ]
     },
     "execution_count": 4,
     "metadata": {},
     "output_type": "execute_result"
    }
   ],
   "source": [
    "is_palindrome(\"Draw, O coward!\")"
   ]
  },
  {
   "cell_type": "code",
   "execution_count": 5,
   "metadata": {},
   "outputs": [
    {
     "data": {
      "text/plain": [
       "True"
      ]
     },
     "execution_count": 5,
     "metadata": {},
     "output_type": "execute_result"
    }
   ],
   "source": [
    "is_palindrome(\"Step on no pets.\")"
   ]
  },
  {
   "cell_type": "code",
   "execution_count": 6,
   "metadata": {},
   "outputs": [],
   "source": [
    "# As an expert Software Test Engineer, can you write unit tests for this function is_palindrome above. Please check edge cases well."
   ]
  },
  {
   "cell_type": "code",
   "execution_count": null,
   "metadata": {},
   "outputs": [
    {
     "name": "stderr",
     "output_type": "stream",
     "text": [
      "..................F.\n",
      "======================================================================\n",
      "FAIL: test_special_characters_non_palindrome (__main__.TestIsPalindrome.test_special_characters_non_palindrome)\n",
      "----------------------------------------------------------------------\n",
      "Traceback (most recent call last):\n",
      "  File \"/var/folders/bq/z1j1m8m17dx3szw_ngp40tyr0000gn/T/ipykernel_8369/1924202151.py\", line 50, in test_special_characters_non_palindrome\n",
      "    self.assertFalse(is_palindrome(\"!@#$$#@\"))\n",
      "AssertionError: True is not false\n",
      "\n",
      "----------------------------------------------------------------------\n",
      "Ran 20 tests in 0.006s\n",
      "\n",
      "FAILED (failures=1)\n"
     ]
    }
   ],
   "source": [
    "import unittest\n",
    "\n",
    "\n",
    "class TestIsPalindrome(unittest.TestCase):\n",
    "    def test_empty_string(self):\n",
    "        self.assertTrue(is_palindrome(\"\"))\n",
    "\n",
    "    def test_single_character(self):\n",
    "        self.assertTrue(is_palindrome(\"a\"))\n",
    "\n",
    "    def test_simple_palindrome(self):\n",
    "        self.assertTrue(is_palindrome(\"madam\"))\n",
    "\n",
    "    def test_simple_non_palindrome(self):\n",
    "        self.assertFalse(is_palindrome(\"hello\"))\n",
    "\n",
    "    def test_mixed_case_palindrome(self):\n",
    "        self.assertTrue(is_palindrome(\"Madam\".lower()))\n",
    "\n",
    "    def test_mixed_case_non_palindrome(self):\n",
    "        self.assertFalse(is_palindrome(\"Hello\".lower()))\n",
    "\n",
    "    def test_palindrome_with_spaces(self):\n",
    "        self.assertTrue(\n",
    "            is_palindrome(\"A man a plan a canal Panama\".replace(\" \", \"\").lower())\n",
    "        )\n",
    "\n",
    "    def test_non_palindrome_with_spaces(self):\n",
    "        self.assertFalse(\n",
    "            is_palindrome(\"This is not a palindrome\".replace(\" \", \"\").lower())\n",
    "        )\n",
    "\n",
    "    def test_palindrome_with_punctuation(self):\n",
    "        self.assertTrue(\n",
    "            is_palindrome(\n",
    "                \"A man, a plan, a canal, Panama\".replace(\" \", \"\")\n",
    "                .replace(\",\", \"\")\n",
    "                .lower()\n",
    "            )\n",
    "        )\n",
    "\n",
    "    def test_non_palindrome_with_punctuation(self):\n",
    "        self.assertFalse(\n",
    "            is_palindrome(\n",
    "                \"This, is not a palindrome!\".replace(\" \", \"\")\n",
    "                .replace(\",\", \"\")\n",
    "                .replace(\"!\", \"\")\n",
    "                .lower()\n",
    "            )\n",
    "        )\n",
    "\n",
    "    def test_number_palindrome(self):\n",
    "        self.assertTrue(is_palindrome(str(12321)))\n",
    "\n",
    "    def test_number_non_palindrome(self):\n",
    "        self.assertFalse(is_palindrome(str(12345)))\n",
    "\n",
    "    def test_mixed_alphanumeric_palindrome(self):\n",
    "        self.assertTrue(is_palindrome(\"1a2b2a1\"))\n",
    "\n",
    "    def test_mixed_alphanumeric_non_palindrome(self):\n",
    "        self.assertFalse(is_palindrome(\"1a2b3a1\"))\n",
    "\n",
    "    def test_special_characters_palindrome(self):\n",
    "        self.assertTrue(is_palindrome(\"!@#$$#@!\"))\n",
    "\n",
    "    def test_special_characters_non_palindrome(self):\n",
    "        self.assertFalse(is_palindrome(\"!@#$$#@\"))\n",
    "\n",
    "    def test_long_palindrome(self):\n",
    "        self.assertTrue(\n",
    "            is_palindrome(\"Able was I ere I saw Elba\".replace(\" \", \"\").lower())\n",
    "        )\n",
    "\n",
    "    def test_long_non_palindrome(self):\n",
    "        self.assertFalse(\n",
    "            is_palindrome(\n",
    "                \"This is definitely not a palindrome\".replace(\" \", \"\").lower()\n",
    "            )\n",
    "        )\n",
    "\n",
    "    # Can you enhace these test cases to check for string inputs with punctuation marks and white spaces\n",
    "    def test_palindrome_with_various_punctuation(self):\n",
    "        self.assertTrue(is_palindrome(\"Eva, can I see bees in a cave?\"))\n",
    "        self.assertTrue(is_palindrome(\"No lemon, no melon\"))\n",
    "        self.assertTrue(is_palindrome(\"Was it a car or a cat I saw?\"))\n",
    "        self.assertTrue(is_palindrome(\"Madam, in Eden, I'm Adam\"))\n",
    "        self.assertTrue(is_palindrome(\"Mr. Owl ate my metal worm\"))\n",
    "\n",
    "    def test_non_palindrome_with_various_punctuation(self):\n",
    "        self.assertFalse(is_palindrome(\"This is, definitely, not a palindrome!\"))\n",
    "        self.assertFalse(is_palindrome(\"Hello, world!\"))\n",
    "        self.assertFalse(is_palindrome(\"Python programming is fun.\"))\n",
    "\n",
    "\n",
    "if __name__ == \"__main__\":\n",
    "    unittest.main(argv=[\"\"], exit=False)"
   ]
  },
  {
   "cell_type": "code",
   "execution_count": null,
   "metadata": {},
   "outputs": [],
   "source": []
  }
 ],
 "metadata": {
  "kernelspec": {
   "display_name": ".venv",
   "language": "python",
   "name": "python3"
  },
  "language_info": {
   "codemirror_mode": {
    "name": "ipython",
    "version": 3
   },
   "file_extension": ".py",
   "mimetype": "text/x-python",
   "name": "python",
   "nbconvert_exporter": "python",
   "pygments_lexer": "ipython3",
   "version": "3.12.3"
  }
 },
 "nbformat": 4,
 "nbformat_minor": 2
}
