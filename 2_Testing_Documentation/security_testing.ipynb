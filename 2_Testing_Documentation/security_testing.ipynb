{
  "cells": [
    {
      "cell_type": "code",
      "execution_count": null,
      "metadata": {
        "colab": {
          "base_uri": "https://localhost:8080/"
        },
        "executionInfo": {
          "elapsed": 23502,
          "status": "ok",
          "timestamp": 1721451973409,
          "user": {
            "displayName": "Laurence Moroney",
            "userId": "17858265307580721507"
          },
          "user_tz": 420
        },
        "id": "vOD-mUKrUQEQ",
        "outputId": "ef9b5a23-c98d-4221-9006-8c9918b286aa"
      },
      "outputs": [],
      "source": [
        "!pip install flask_sqlalchemy"
      ]
    },
    {
      "cell_type": "code",
      "execution_count": null,
      "metadata": {
        "colab": {
          "base_uri": "https://localhost:8080/"
        },
        "executionInfo": {
          "elapsed": 894,
          "status": "ok",
          "timestamp": 1721452136778,
          "user": {
            "displayName": "Laurence Moroney",
            "userId": "17858265307580721507"
          },
          "user_tz": 420
        },
        "id": "9rYIbukaTJuN",
        "outputId": "cd8046b5-6aec-42e0-b9d1-a1dcf1464711"
      },
      "outputs": [],
      "source": [
        "from flask import Flask, request, jsonify\n",
        "from flask_sqlalchemy import SQLAlchemy\n",
        "import threading\n",
        "\n",
        "app = Flask(__name__)\n",
        "app.config['SQLALCHEMY_DATABASE_URI'] = 'sqlite:///users.db'\n",
        "app.config['SQLALCHEMY_TRACK_MODIFICATIONS'] = False\n",
        "db = SQLAlchemy(app)\n",
        "\n",
        "class User(db.Model):\n",
        "    id = db.Column(db.Integer, primary_key=True)\n",
        "    username = db.Column(db.String(80), unique=True, nullable=False)\n",
        "    password = db.Column(db.String(120), nullable=False)\n",
        "\n",
        "with app.app_context():\n",
        "  db.create_all()\n",
        "\n",
        "@app.route('/')\n",
        "def home():\n",
        "    return \"Welcome to the Security Testing Demo!\"\n",
        "\n",
        "@app.route('/users', methods=['GET'])\n",
        "def get_users():\n",
        "    users = User.query.all()\n",
        "    return jsonify([{\"id\": user.id, \"username\": user.username, \"password\": user.password} for user in users])\n",
        "\n",
        "@app.route('/user/<int:id>', methods=['GET'])\n",
        "def get_user(id):\n",
        "    user = User.query.get(id)\n",
        "    if user:\n",
        "        return jsonify({\"id\": user.id, \"username\": user.username, \"password\": user.password})\n",
        "    return jsonify({\"message\": \"User not found\"}), 404\n",
        "\n",
        "@app.route('/user', methods=['POST'])\n",
        "def add_user():\n",
        "    data = request.get_json()\n",
        "    new_user = User(username=data['username'], password=data['password'])\n",
        "    db.session.add(new_user)\n",
        "    db.session.commit()\n",
        "    return jsonify({\"message\": \"User added successfully\"}), 201\n",
        "\n",
        "@app.route('/user/<int:id>', methods=['PUT'])\n",
        "def update_user(id):\n",
        "    data = request.get_json()\n",
        "    user = User.query.get(id)\n",
        "    if user:\n",
        "        user.username = data['username']\n",
        "        user.password = data['password']\n",
        "        db.session.commit()\n",
        "        return jsonify({\"message\": \"User updated successfully\"})\n",
        "    return jsonify({\"message\": \"User not found\"}), 404\n",
        "\n",
        "@app.route('/user/<int:id>', methods=['DELETE'])\n",
        "def delete_user(id):\n",
        "    user = User.query.get(id)\n",
        "    if user:\n",
        "        db.session.delete(user)\n",
        "        db.session.commit()\n",
        "        return jsonify({\"message\": \"User deleted successfully\"})\n",
        "    return jsonify({\"message\": \"User not found\"}), 404\n",
        "\n",
        "\n",
        "threading.Thread(target=app.run, kwargs={'host':'0.0.0.0','port':8080}).start()\n"
      ]
    },
    {
      "cell_type": "code",
      "execution_count": null,
      "metadata": {},
      "outputs": [],
      "source": []
    },
    {
      "cell_type": "code",
      "execution_count": null,
      "metadata": {
        "colab": {
          "base_uri": "https://localhost:8080/"
        },
        "executionInfo": {
          "elapsed": 323,
          "status": "ok",
          "timestamp": 1721452233676,
          "user": {
            "displayName": "Laurence Moroney",
            "userId": "17858265307580721507"
          },
          "user_tz": 420
        },
        "id": "eG1_y8mxTdQb",
        "outputId": "88c7ccae-9267-4728-d587-dfe0523d798d"
      },
      "outputs": [],
      "source": [
        "# !curl -X GET http://172.28.0.12:5000/users\n",
        "!curl -X GET http://127.0.0.1:8080"
      ]
    },
    {
      "cell_type": "code",
      "execution_count": null,
      "metadata": {
        "colab": {
          "base_uri": "https://localhost:8080/"
        },
        "executionInfo": {
          "elapsed": 161,
          "status": "ok",
          "timestamp": 1721452235412,
          "user": {
            "displayName": "Laurence Moroney",
            "userId": "17858265307580721507"
          },
          "user_tz": 420
        },
        "id": "glPFMY_DWcqp",
        "outputId": "88d708d0-85ed-435a-cc41-8edd6066637e"
      },
      "outputs": [],
      "source": [
        "!curl -X GET http://localhost:8080/user/1"
      ]
    },
    {
      "cell_type": "code",
      "execution_count": null,
      "metadata": {
        "colab": {
          "base_uri": "https://localhost:8080/"
        },
        "executionInfo": {
          "elapsed": 161,
          "status": "ok",
          "timestamp": 1721452189201,
          "user": {
            "displayName": "Laurence Moroney",
            "userId": "17858265307580721507"
          },
          "user_tz": 420
        },
        "id": "d-kTQBl8V65G",
        "outputId": "baba763a-11d8-4446-c126-6ce53edd5d2b"
      },
      "outputs": [],
      "source": [
        "!curl -X POST http://localhost:8080/user -H \"Content-Type: application/json\" -d '{\"username\":\"testuser\",\"password\":\"securepassword\"}'\n"
      ]
    },
    {
      "cell_type": "code",
      "execution_count": null,
      "metadata": {
        "colab": {
          "base_uri": "https://localhost:8080/"
        },
        "executionInfo": {
          "elapsed": 350,
          "status": "ok",
          "timestamp": 1721452213626,
          "user": {
            "displayName": "Laurence Moroney",
            "userId": "17858265307580721507"
          },
          "user_tz": 420
        },
        "id": "tP6GUjgnWmci",
        "outputId": "e476214d-0495-4159-d84a-ad1f3d89b834"
      },
      "outputs": [],
      "source": [
        "!curl -X PUT http://localhost:8080/user/1 -H \"Content-Type: application/json\" -d '{\"username\":\"testuser\",\"password\":\"newsecurepassword\"}'"
      ]
    },
    {
      "cell_type": "code",
      "execution_count": null,
      "metadata": {
        "colab": {
          "base_uri": "https://localhost:8080/"
        },
        "executionInfo": {
          "elapsed": 348,
          "status": "ok",
          "timestamp": 1721452228173,
          "user": {
            "displayName": "Laurence Moroney",
            "userId": "17858265307580721507"
          },
          "user_tz": 420
        },
        "id": "qOhUQjf2WzQi",
        "outputId": "d23920d8-423b-447c-a87c-2cddc738736c"
      },
      "outputs": [],
      "source": [
        "!curl -X DELETE http://localhost:8080/user/1"
      ]
    },
    {
      "cell_type": "code",
      "execution_count": null,
      "metadata": {
        "colab": {
          "base_uri": "https://localhost:8080/",
          "height": 311
        },
        "executionInfo": {
          "elapsed": 319,
          "status": "error",
          "timestamp": 1721419493529,
          "user": {
            "displayName": "Lucas Coutinho",
            "userId": "17134509355433454861"
          },
          "user_tz": 180
        },
        "id": "nPMh5eJ9gtKX",
        "outputId": "0633484b-e9dc-4823-9649-9135c49b4605"
      },
      "outputs": [],
      "source": [
        "import unittest\n",
        "import requests\n",
        "import json\n",
        "\n",
        "# BASE_URL = \"http://172.28.0.12:5000\"\n",
        "BASE_URL = \"http://localhost:8080\"\n",
        "\n",
        "class FlaskAppTestCase(unittest.TestCase):\n",
        "\n",
        "    def test_sql_injection(self):\n",
        "        payload = {\"username\": \"testuser'; DROP TABLE users; --\", \"password\": \"testpass\"}\n",
        "        response = requests.post(f\"{BASE_URL}/user\", json=payload)\n",
        "        self.assertNotEqual(response.status_code, 201, \"SQL Injection vulnerability detected\")\n",
        "\n",
        "    def test_xss(self):\n",
        "        payload = {\"username\": \"<script>alert('XSS');</script>\", \"password\": \"testpass\"}\n",
        "        response = requests.post(f\"{BASE_URL}/user\", json=payload)\n",
        "        self.assertNotIn(\"<script>\", response.text, \"XSS vulnerability detected\")\n",
        "\n",
        "    def test_insecure_password_storage(self):\n",
        "        payload = {\"username\": \"testuser\", \"password\": \"testpass\"}\n",
        "        response = requests.post(f\"{BASE_URL}/user\", json=payload)\n",
        "        self.assertEqual(response.status_code, 201)\n",
        "        user_id = response.json()[\"id\"]\n",
        "        response = requests.get(f\"{BASE_URL}/user/{user_id}\")\n",
        "        self.assertNotIn(\"testpass\", response.json()[\"password\"], \"Insecure password storage detected\")\n",
        "\n",
        "    def test_authentication(self):\n",
        "        response = requests.get(f\"{BASE_URL}/users\")\n",
        "        self.assertEqual(response.status_code, 401, \"No authentication detected\")\n",
        "\n",
        "    def test_authorization(self):\n",
        "        payload = {\"username\": \"admin\", \"password\": \"adminpass\"}\n",
        "        response = requests.post(f\"{BASE_URL}/user\", json=payload)\n",
        "        user_id = response.json()[\"id\"]\n",
        "        payload = {\"username\": \"normaluser\", \"password\": \"userpass\"}\n",
        "        response = requests.post(f\"{BASE_URL}/user\", json=payload)\n",
        "        response = requests.put(f\"{BASE_URL}/user/{user_id}\", json={\"username\": \"hacked\", \"password\": \"hackedpass\"})\n",
        "        self.assertEqual(response.status_code, 403, \"No authorization detected\")\n",
        "\n",
        "    def test_insecure_direct_object_references(self):\n",
        "        payload = {\"username\": \"testuser1\", \"password\": \"testpass\"}\n",
        "        response = requests.post(f\"{BASE_URL}/user\", json=payload)\n",
        "        user_id = response.json()[\"id\"]\n",
        "        response = requests.get(f\"{BASE_URL}/user/{user_id}\")\n",
        "        self.assertNotEqual(response.status_code, 200, \"Insecure direct object reference detected\")\n",
        "\n",
        "    def test_data_exposure(self):\n",
        "        response = requests.get(f\"{BASE_URL}/users\")\n",
        "        self.assertNotIn(\"password\", response.json()[0], \"Sensitive data exposure detected\")\n",
        "\n",
        "if __name__ == '__main__':\n",
        "    unittest.main()"
      ]
    },
    {
      "cell_type": "code",
      "execution_count": null,
      "metadata": {
        "id": "bUZskhdaiLgU"
      },
      "outputs": [],
      "source": []
    }
  ],
  "metadata": {
    "colab": {
      "provenance": []
    },
    "kernelspec": {
      "display_name": ".venv",
      "language": "python",
      "name": "python3"
    },
    "language_info": {
      "codemirror_mode": {
        "name": "ipython",
        "version": 3
      },
      "file_extension": ".py",
      "mimetype": "text/x-python",
      "name": "python",
      "nbconvert_exporter": "python",
      "pygments_lexer": "ipython3",
      "version": "3.12.3"
    }
  },
  "nbformat": 4,
  "nbformat_minor": 0
}
