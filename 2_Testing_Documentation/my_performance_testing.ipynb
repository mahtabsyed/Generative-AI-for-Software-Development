{
  "cells": [
    {
      "cell_type": "markdown",
      "metadata": {},
      "source": [
        "### is_prime"
      ]
    },
    {
      "cell_type": "code",
      "execution_count": 1,
      "metadata": {
        "executionInfo": {
          "elapsed": 188,
          "status": "ok",
          "timestamp": 1717883839717,
          "user": {
            "displayName": "Laurence Moroney",
            "userId": "17858265307580721507"
          },
          "user_tz": 420
        },
        "id": "62kqP_1Gylfo"
      },
      "outputs": [],
      "source": [
        "import time\n",
        "import timeit\n",
        "import cProfile\n",
        "def is_prime(n):\n",
        "    if n <= 1:\n",
        "        return False\n",
        "    for i in range(2, n):\n",
        "        if n % i == 0:\n",
        "            return False\n",
        "    return True\n",
        "\n",
        "def sum_of_primes_naive(numbers):\n",
        "    total = 0\n",
        "    for number in numbers:\n",
        "        if is_prime(number):\n",
        "            total += number\n",
        "    return total\n"
      ]
    },
    {
      "cell_type": "code",
      "execution_count": 2,
      "metadata": {
        "colab": {
          "base_uri": "https://localhost:8080/"
        },
        "executionInfo": {
          "elapsed": 41199,
          "status": "ok",
          "timestamp": 1717884269856,
          "user": {
            "displayName": "Laurence Moroney",
            "userId": "17858265307580721507"
          },
          "user_tz": 420
        },
        "id": "iMLK38E_1oxU",
        "outputId": "b803f404-401a-4488-faf2-9f6160ef64d4"
      },
      "outputs": [
        {
          "data": {
            "text/plain": [
              "454396537"
            ]
          },
          "execution_count": 2,
          "metadata": {},
          "output_type": "execute_result"
        }
      ],
      "source": [
        "# Generate a list of numbers\n",
        "numbers = list(range(1, 100000))\n",
        "sum_of_primes_naive(numbers)"
      ]
    },
    {
      "cell_type": "code",
      "execution_count": 3,
      "metadata": {
        "colab": {
          "base_uri": "https://localhost:8080/"
        },
        "executionInfo": {
          "elapsed": 40231,
          "status": "ok",
          "timestamp": 1717884310085,
          "user": {
            "displayName": "Laurence Moroney",
            "userId": "17858265307580721507"
          },
          "user_tz": 420
        },
        "id": "8gRZnb8G4P7O",
        "outputId": "a07f24d3-6576-4dd1-b8d8-50759ba48a6e"
      },
      "outputs": [
        {
          "name": "stdout",
          "output_type": "stream",
          "text": [
            "Execution time: 13.206578708006418 seconds\n"
          ]
        }
      ],
      "source": [
        "# Measure time using timeit\n",
        "# If you ever generate code to do this, make sure that you use the number parameter of timeit.timeit. This is the number of times the function will be called, and it defaults to one million.\n",
        "execution_time = timeit.timeit('sum_of_primes_naive(numbers)', globals=globals(), number=1)\n",
        "print(f\"Execution time: {execution_time} seconds\")"
      ]
    },
    {
      "cell_type": "code",
      "execution_count": 4,
      "metadata": {
        "colab": {
          "base_uri": "https://localhost:8080/"
        },
        "executionInfo": {
          "elapsed": 52418,
          "status": "ok",
          "timestamp": 1717884599707,
          "user": {
            "displayName": "Laurence Moroney",
            "userId": "17858265307580721507"
          },
          "user_tz": 420
        },
        "id": "ANFvfM1iywwr",
        "outputId": "3fa5ccd1-ec51-4a37-cbde-660d09058f3b"
      },
      "outputs": [
        {
          "name": "stdout",
          "output_type": "stream",
          "text": [
            "         100766 function calls (100747 primitive calls) in 13.196 seconds\n",
            "\n",
            "   Ordered by: standard name\n",
            "\n",
            "   ncalls  tottime  percall  cumtime  percall filename:lineno(function)\n",
            "        1    0.002    0.002    4.173    4.173 688565710.py:12(sum_of_primes_naive)\n",
            "    99999   13.177    0.000   13.177    0.000 688565710.py:4(is_prime)\n",
            "        2    0.000    0.000    0.000    0.000 <frozen abc>:121(__subclasscheck__)\n",
            "        5    0.000    0.000    0.000    0.000 <frozen importlib._bootstrap>:1390(_handle_fromlist)\n",
            "        1    0.000    0.000    4.173    4.173 <string>:1(<module>)\n",
            "        1    0.000    0.000    0.013    0.013 _base.py:337(_invoke_callbacks)\n",
            "        1    0.000    0.000    0.013    0.013 _base.py:537(set_result)\n",
            "        1    0.000    0.000    0.112    0.112 asyncio.py:200(_handle_events)\n",
            "        1    0.000    0.000    0.000    0.000 asyncio.py:225(add_callback)\n",
            "        5    0.000    0.000    0.000    0.000 attrsettr.py:43(__getattr__)\n",
            "        5    0.000    0.000    0.000    0.000 attrsettr.py:66(_get_attr_opt)\n",
            "        1    0.000    0.000    0.000    0.000 base_events.py:1895(_add_callback)\n",
            "        1    0.000    0.000    0.000    0.000 base_events.py:1905(_timer_handle_cancelled)\n",
            "        6    0.000    0.000    9.037    1.506 base_events.py:1910(_run_once)\n",
            "        9    0.000    0.000    0.000    0.000 base_events.py:2005(get_debug)\n",
            "        1    0.000    0.000    0.000    0.000 base_events.py:447(create_future)\n",
            "        5    0.000    0.000    0.000    0.000 base_events.py:539(_check_closed)\n",
            "        1    0.000    0.000    0.000    0.000 base_events.py:720(is_closed)\n",
            "       10    0.000    0.000    0.000    0.000 base_events.py:734(time)\n",
            "        1    0.000    0.000    0.000    0.000 base_events.py:743(call_later)\n",
            "        1    0.000    0.000    0.000    0.000 base_events.py:767(call_at)\n",
            "        3    0.000    0.000    0.000    0.000 base_events.py:785(call_soon)\n",
            "        4    0.000    0.000    0.000    0.000 base_events.py:814(_call_soon)\n",
            "        1    0.000    0.000    0.013    0.013 base_events.py:838(call_soon_threadsafe)\n",
            "        1    0.000    0.000    0.000    0.000 concurrent.py:182(future_set_result_unless_cancelled)\n",
            "        1    0.000    0.000    0.000    0.000 decorator.py:199(fix)\n",
            "        1    0.000    0.000    0.019    0.019 decorator.py:229(fun)\n",
            "       29    0.000    0.000    0.000    0.000 enum.py:1129(__new__)\n",
            "       66    0.000    0.000    0.000    0.000 enum.py:1544(_get_value)\n",
            "       15    0.000    0.000    0.000    0.000 enum.py:1551(__or__)\n",
            "        7    0.000    0.000    0.000    0.000 enum.py:1562(__and__)\n",
            "       29    0.000    0.000    0.000    0.000 enum.py:726(__call__)\n",
            "        1    0.000    0.000    0.000    0.000 events.py:111(__init__)\n",
            "        1    0.000    0.000    0.000    0.000 events.py:155(cancel)\n",
            "        5    0.000    0.000    0.000    0.000 events.py:36(__init__)\n",
            "        1    0.000    0.000    0.000    0.000 events.py:72(cancel)\n",
            "      7/5    0.006    0.001    0.118    0.024 events.py:86(_run)\n",
            "        1    0.000    0.000    0.000    0.000 futures.py:311(_set_result_unless_cancelled)\n",
            "        1    0.000    0.000    0.013    0.013 futures.py:394(_call_set_state)\n",
            "        1    0.000    0.000    0.019    0.019 history.py:55(only_when_enabled)\n",
            "        1    0.000    0.000    0.000    0.000 history.py:833(_writeout_input_cache)\n",
            "        1    0.000    0.000    0.000    0.000 history.py:839(_writeout_output_cache)\n",
            "        1    0.000    0.000    0.000    0.000 history.py:845(writeout_cache)\n",
            "        4    0.000    0.000    0.000    0.000 inspect.py:2765(name)\n",
            "       10    0.000    0.000    0.000    0.000 inspect.py:2777(kind)\n",
            "        1    0.000    0.000    0.000    0.000 inspect.py:2857(__init__)\n",
            "        1    0.000    0.000    0.000    0.000 inspect.py:2865(args)\n",
            "        1    0.000    0.000    0.000    0.000 inspect.py:2888(kwargs)\n",
            "        1    0.000    0.000    0.000    0.000 inspect.py:2918(apply_defaults)\n",
            "        4    0.000    0.000    0.000    0.000 inspect.py:3058(parameters)\n",
            "        1    0.000    0.000    0.000    0.000 inspect.py:3102(_bind)\n",
            "        1    0.000    0.000    0.000    0.000 inspect.py:3237(bind)\n",
            "        2    0.000    0.000    0.000    0.000 ioloop.py:742(_run_callback)\n",
            "        1    0.000    0.000    0.000    0.000 iostream.py:118(_run_event_pipe_gc)\n",
            "        1    0.000    0.000    0.000    0.000 iostream.py:127(_event_pipe_gc)\n",
            "        2    0.000    0.000    0.106    0.053 iostream.py:157(_handle_event)\n",
            "        2    0.000    0.000    0.000    0.000 iostream.py:213(_is_master_process)\n",
            "        2    0.000    0.000    0.000    0.000 iostream.py:216(_check_mp_mode)\n",
            "        2    0.000    0.000    0.000    0.000 iostream.py:255(closed)\n",
            "        2    0.000    0.000    0.106    0.053 iostream.py:276(<lambda>)\n",
            "        2    0.000    0.000    0.086    0.043 iostream.py:278(_really_send)\n",
            "        1    0.000    0.000    0.000    0.000 iostream.py:616(_flush)\n",
            "        1    0.000    0.000    0.000    0.000 iostream.py:710(_flush_buffers)\n",
            "        1    0.000    0.000    0.000    0.000 iostream.py:718(_rotate_buffers)\n",
            "        1    0.000    0.000    0.013    0.013 kernelbase.py:302(poll_control_queue)\n",
            "        1    0.000    0.000    0.000    0.000 locks.py:224(clear)\n",
            "        3    0.000    0.000    0.000    0.000 queue.py:209(_qsize)\n",
            "        3    0.000    0.000    0.000    0.000 queue.py:97(empty)\n",
            "        1    0.000    0.000    0.000    0.000 queues.py:173(qsize)\n",
            "        1    0.000    0.000    0.000    0.000 queues.py:177(empty)\n",
            "        1    0.000    0.000    0.000    0.000 queues.py:186(put)\n",
            "        1    0.000    0.000    0.000    0.000 queues.py:209(put_nowait)\n",
            "        1    0.000    0.000    0.000    0.000 queues.py:225(get)\n",
            "        1    0.000    0.000    0.000    0.000 queues.py:256(get_nowait)\n",
            "        1    0.000    0.000    0.000    0.000 queues.py:309(_get)\n",
            "        1    0.000    0.000    0.000    0.000 queues.py:312(_put)\n",
            "        1    0.000    0.000    0.000    0.000 queues.py:317(__put_internal)\n",
            "        2    0.000    0.000    0.000    0.000 queues.py:322(_consume_expired)\n",
            "        1    0.000    0.000    0.000    0.000 queues.py:59(_set_timeout)\n",
            "        1    0.000    0.000    0.000    0.000 selector_events.py:129(_read_from_self)\n",
            "        1    0.000    0.000    0.013    0.013 selector_events.py:141(_write_to_self)\n",
            "        6    0.000    0.000    0.000    0.000 selector_events.py:750(_process_events)\n",
            "        1    0.000    0.000    0.000    0.000 selectors.py:275(_key_from_fd)\n",
            "      5/1    0.006    0.001    0.006    0.006 selectors.py:558(select)\n",
            "       14    0.002    0.000    0.002    0.000 socket.py:626(send)\n",
            "        2    0.000    0.000    0.086    0.043 socket.py:703(send_multipart)\n",
            "        2    0.000    0.000    0.000    0.000 socket.py:774(recv_multipart)\n",
            "        2    0.000    0.000    0.000    0.000 tasks.py:653(sleep)\n",
            "        3    0.000    0.000    0.000    0.000 threading.py:1153(_wait_for_tstate_lock)\n",
            "        3    0.000    0.000    0.000    0.000 threading.py:1220(is_alive)\n",
            "        3    0.000    0.000    0.000    0.000 threading.py:299(__enter__)\n",
            "        3    0.000    0.000    0.000    0.000 threading.py:302(__exit__)\n",
            "        1    0.000    0.000    0.000    0.000 threading.py:308(_release_save)\n",
            "        1    0.000    0.000    0.000    0.000 threading.py:311(_acquire_restore)\n",
            "        1    0.000    0.000    0.000    0.000 threading.py:314(_is_owned)\n",
            "        1    0.000    0.000    0.000    0.000 threading.py:394(notify)\n",
            "        1    0.000    0.000    0.000    0.000 threading.py:424(notify_all)\n",
            "        3    0.000    0.000    0.000    0.000 threading.py:601(is_set)\n",
            "        1    0.000    0.000    0.000    0.000 threading.py:627(clear)\n",
            "        1    0.000    0.000    0.000    0.000 traitlets.py:1512(_notify_trait)\n",
            "        1    0.000    0.000    0.000    0.000 traitlets.py:1523(notify_change)\n",
            "        1    0.000    0.000    0.000    0.000 traitlets.py:1527(_notify_observers)\n",
            "        2    0.000    0.000    0.000    0.000 traitlets.py:2304(validate)\n",
            "        2    0.000    0.000    0.000    0.000 traitlets.py:3474(validate)\n",
            "        2    0.000    0.000    0.000    0.000 traitlets.py:3486(validate_elements)\n",
            "        2    0.000    0.000    0.000    0.000 traitlets.py:3624(validate_elements)\n",
            "        2    0.000    0.000    0.000    0.000 traitlets.py:3631(set)\n",
            "        6    0.000    0.000    0.000    0.000 traitlets.py:629(get)\n",
            "        6    0.000    0.000    0.000    0.000 traitlets.py:676(__get__)\n",
            "        2    0.000    0.000    0.000    0.000 traitlets.py:689(set)\n",
            "        2    0.000    0.000    0.000    0.000 traitlets.py:708(__set__)\n",
            "        2    0.000    0.000    0.000    0.000 traitlets.py:718(_validate)\n",
            "        2    0.000    0.000    0.000    0.000 traitlets.py:727(_cross_validate)\n",
            "        2    0.000    0.000    0.000    0.000 typing.py:1194(__instancecheck__)\n",
            "        4    0.000    0.000    0.000    0.000 typing.py:1258(__hash__)\n",
            "        2    0.000    0.000    0.000    0.000 typing.py:1465(__subclasscheck__)\n",
            "       24    0.000    0.000    0.000    0.000 typing.py:2154(cast)\n",
            "        6    0.000    0.000    0.000    0.000 typing.py:392(inner)\n",
            "        1    0.000    0.000    0.000    0.000 unix_events.py:81(_process_self_data)\n",
            "        5    0.000    0.000    0.000    0.000 zmqstream.py:538(receiving)\n",
            "        3    0.000    0.000    0.000    0.000 zmqstream.py:542(sending)\n",
            "        2    0.000    0.000    0.106    0.053 zmqstream.py:556(_run_callback)\n",
            "        2    0.000    0.000    0.112    0.056 zmqstream.py:583(_handle_events)\n",
            "        2    0.000    0.000    0.106    0.053 zmqstream.py:624(_handle_recv)\n",
            "        3    0.000    0.000    0.000    0.000 zmqstream.py:663(_rebuild_io_state)\n",
            "        3    0.000    0.000    0.000    0.000 zmqstream.py:686(_update_handler)\n",
            "        1    0.000    0.000    0.000    0.000 zmqstream.py:694(<lambda>)\n",
            "        2    0.000    0.000    0.000    0.000 {built-in method _abc._abc_subclasscheck}\n",
            "        2    0.000    0.000    0.000    0.000 {built-in method _asyncio.get_running_loop}\n",
            "        3    0.000    0.000    0.000    0.000 {built-in method _contextvars.copy_context}\n",
            "        2    0.000    0.000    0.000    0.000 {built-in method _heapq.heappop}\n",
            "        1    0.000    0.000    0.000    0.000 {built-in method _heapq.heappush}\n",
            "        1    0.000    0.000    0.000    0.000 {built-in method _thread.allocate_lock}\n",
            "        5    0.000    0.000    0.000    0.000 {built-in method builtins.getattr}\n",
            "       10    0.000    0.000    0.000    0.000 {built-in method builtins.hasattr}\n",
            "        4    0.000    0.000    0.000    0.000 {built-in method builtins.hash}\n",
            "  143/139    0.000    0.000    0.000    0.000 {built-in method builtins.isinstance}\n",
            "        2    0.000    0.000    0.000    0.000 {built-in method builtins.issubclass}\n",
            "        2    0.000    0.000    0.000    0.000 {built-in method builtins.iter}\n",
            "       22    0.000    0.000    0.000    0.000 {built-in method builtins.len}\n",
            "        9    0.000    0.000    0.000    0.000 {built-in method builtins.max}\n",
            "        3    0.000    0.000    0.000    0.000 {built-in method builtins.min}\n",
            "        6    0.000    0.000    0.000    0.000 {built-in method builtins.next}\n",
            "        2    0.000    0.000    0.000    0.000 {built-in method posix.getpid}\n",
            "       10    0.000    0.000    0.000    0.000 {built-in method time.monotonic}\n",
            "        1    0.000    0.000    0.000    0.000 {method '__enter__' of '_thread.RLock' objects}\n",
            "        2    0.000    0.000    0.000    0.000 {method '__enter__' of '_thread.lock' objects}\n",
            "        2    0.000    0.000    0.000    0.000 {method '__exit__' of '_thread.RLock' objects}\n",
            "        8    0.000    0.000    0.000    0.000 {method '__exit__' of '_thread.lock' objects}\n",
            "        2    0.000    0.000    0.000    0.000 {method '__exit__' of 'sqlite3.Connection' objects}\n",
            "        1    0.000    0.000    0.000    0.000 {method '_is_owned' of '_thread.RLock' objects}\n",
            "      6/3    0.000    0.000    0.000    0.000 {method 'acquire' of '_thread.lock' objects}\n",
            "       10    0.000    0.000    0.000    0.000 {method 'append' of 'collections.deque' objects}\n",
            "        5    0.000    0.000    0.000    0.000 {method 'append' of 'list' objects}\n",
            "        3    0.000    0.000    0.000    0.000 {method 'cancelled' of '_asyncio.Future' objects}\n",
            "      5/1    0.002    0.000    0.000    0.000 {method 'control' of 'select.kqueue' objects}\n",
            "        1    0.000    0.000    0.000    0.000 {method 'disable' of '_lsprof.Profiler' objects}\n",
            "        1    0.000    0.000    0.000    0.000 {method 'done' of '_asyncio.Future' objects}\n",
            "        1    0.000    0.000    0.000    0.000 {method 'execute' of 'sqlite3.Connection' objects}\n",
            "        2    0.000    0.000    0.000    0.000 {method 'extend' of 'list' objects}\n",
            "        4    0.000    0.000    0.000    0.000 {method 'get' of 'dict' objects}\n",
            "        2    0.000    0.000    0.000    0.000 {method 'items' of 'dict' objects}\n",
            "        3    0.000    0.000    0.000    0.000 {method 'items' of 'mappingproxy' objects}\n",
            "       11    0.000    0.000    0.000    0.000 {method 'popleft' of 'collections.deque' objects}\n",
            "        2    0.000    0.000    0.000    0.000 {method 'recv' of '_socket.socket' objects}\n",
            "        1    0.000    0.000    0.000    0.000 {method 'release' of '_thread.lock' objects}\n",
            "      7/5    0.000    0.000    0.112    0.022 {method 'run' of '_contextvars.Context' objects}\n",
            "        1    0.000    0.000    0.000    0.000 {method 'send' of '_socket.socket' objects}\n",
            "        3    0.000    0.000    0.000    0.000 {method 'set_result' of '_asyncio.Future' objects}\n",
            "        5    0.000    0.000    0.000    0.000 {method 'upper' of 'str' objects}\n",
            "        1    0.000    0.000    0.000    0.000 {method 'values' of 'mappingproxy' objects}\n",
            "\n",
            "\n"
          ]
        }
      ],
      "source": [
        "cProfile.run('sum_of_primes_naive(numbers)')"
      ]
    },
    {
      "cell_type": "markdown",
      "metadata": {},
      "source": [
        "### is_prime_optimized"
      ]
    },
    {
      "cell_type": "code",
      "execution_count": 10,
      "metadata": {},
      "outputs": [],
      "source": [
        "# Rewrite my is_prime function in the code above to be more optimized. I also have output of the cprofile above for your analysis\n",
        "def is_prime_optimized(n):\n",
        "    if n <= 1:\n",
        "        return False\n",
        "    if n == 2:\n",
        "        return True\n",
        "    if n % 2 == 0:\n",
        "        return False\n",
        "    for i in range(3, int(n**0.5) + 1, 2):\n",
        "        if n % i == 0:\n",
        "            return False\n",
        "    return True\n",
        "\n",
        "def sum_of_primes_naive(numbers):\n",
        "    total = 0\n",
        "    for number in numbers:\n",
        "        if is_prime_optimized(number):\n",
        "            total += number\n",
        "    return total"
      ]
    },
    {
      "cell_type": "code",
      "execution_count": 11,
      "metadata": {},
      "outputs": [
        {
          "data": {
            "text/plain": [
              "454396537"
            ]
          },
          "execution_count": 11,
          "metadata": {},
          "output_type": "execute_result"
        }
      ],
      "source": [
        "# Generate a list of numbers\n",
        "numbers = list(range(1, 100000))\n",
        "sum_of_primes_naive(numbers)"
      ]
    },
    {
      "cell_type": "code",
      "execution_count": 12,
      "metadata": {},
      "outputs": [
        {
          "name": "stdout",
          "output_type": "stream",
          "text": [
            "Execution time: 0.03897391600185074 seconds\n"
          ]
        }
      ],
      "source": [
        "execution_time = timeit.timeit('sum_of_primes_naive(numbers)', globals=globals(), number=1)\n",
        "print(f\"Execution time: {execution_time} seconds\")"
      ]
    },
    {
      "cell_type": "code",
      "execution_count": 9,
      "metadata": {},
      "outputs": [
        {
          "name": "stdout",
          "output_type": "stream",
          "text": [
            "         100413 function calls (100408 primitive calls) in 0.070 seconds\n",
            "\n",
            "   Ordered by: standard name\n",
            "\n",
            "   ncalls  tottime  percall  cumtime  percall filename:lineno(function)\n",
            "        1    0.000    0.000    0.001    0.001 1327768184.py:14(sum_of_primes_naive)\n",
            "    99999    0.063    0.000    0.063    0.000 1327768184.py:2(is_prime)\n",
            "        1    0.000    0.000    0.000    0.000 <frozen abc>:121(__subclasscheck__)\n",
            "        2    0.000    0.000    0.000    0.000 <frozen importlib._bootstrap>:1390(_handle_fromlist)\n",
            "        1    0.000    0.000    0.014    0.014 <string>:1(<module>)\n",
            "        1    0.000    0.000    0.000    0.000 _base.py:337(_invoke_callbacks)\n",
            "        1    0.000    0.000    0.000    0.000 _base.py:537(set_result)\n",
            "        1    0.000    0.000    0.000    0.000 asyncio.py:225(add_callback)\n",
            "        2    0.000    0.000    0.000    0.000 attrsettr.py:43(__getattr__)\n",
            "        2    0.000    0.000    0.000    0.000 attrsettr.py:66(_get_attr_opt)\n",
            "      1/0    0.000    0.000    0.000          base_events.py:1910(_run_once)\n",
            "        3    0.000    0.000    0.000    0.000 base_events.py:2005(get_debug)\n",
            "        2    0.000    0.000    0.000    0.000 base_events.py:539(_check_closed)\n",
            "        1    0.000    0.000    0.000    0.000 base_events.py:720(is_closed)\n",
            "        2    0.000    0.000    0.000    0.000 base_events.py:734(time)\n",
            "        1    0.000    0.000    0.000    0.000 base_events.py:785(call_soon)\n",
            "        2    0.000    0.000    0.000    0.000 base_events.py:814(_call_soon)\n",
            "        1    0.000    0.000    0.000    0.000 base_events.py:838(call_soon_threadsafe)\n",
            "        1    0.000    0.000    0.000    0.000 decorator.py:199(fix)\n",
            "        1    0.000    0.000    0.019    0.019 decorator.py:229(fun)\n",
            "       15    0.000    0.000    0.000    0.000 enum.py:1129(__new__)\n",
            "       36    0.000    0.000    0.000    0.000 enum.py:1544(_get_value)\n",
            "        9    0.000    0.000    0.000    0.000 enum.py:1551(__or__)\n",
            "        3    0.000    0.000    0.000    0.000 enum.py:1562(__and__)\n",
            "       15    0.000    0.000    0.000    0.000 enum.py:726(__call__)\n",
            "        2    0.000    0.000    0.000    0.000 events.py:36(__init__)\n",
            "        2    0.000    0.000    0.014    0.007 events.py:86(_run)\n",
            "        1    0.000    0.000    0.000    0.000 futures.py:394(_call_set_state)\n",
            "        1    0.000    0.000    0.019    0.019 history.py:55(only_when_enabled)\n",
            "        1    0.001    0.001    0.007    0.007 history.py:833(_writeout_input_cache)\n",
            "        1    0.000    0.000    0.000    0.000 history.py:839(_writeout_output_cache)\n",
            "        1    0.000    0.000    0.019    0.019 history.py:845(writeout_cache)\n",
            "        4    0.000    0.000    0.000    0.000 inspect.py:2765(name)\n",
            "       10    0.000    0.000    0.000    0.000 inspect.py:2777(kind)\n",
            "        1    0.000    0.000    0.000    0.000 inspect.py:2857(__init__)\n",
            "        1    0.000    0.000    0.000    0.000 inspect.py:2865(args)\n",
            "        1    0.000    0.000    0.000    0.000 inspect.py:2888(kwargs)\n",
            "        1    0.000    0.000    0.000    0.000 inspect.py:2918(apply_defaults)\n",
            "        4    0.000    0.000    0.000    0.000 inspect.py:3058(parameters)\n",
            "        1    0.000    0.000    0.000    0.000 inspect.py:3102(_bind)\n",
            "        1    0.000    0.000    0.000    0.000 inspect.py:3237(bind)\n",
            "        1    0.000    0.000    0.014    0.014 ioloop.py:742(_run_callback)\n",
            "        1    0.000    0.000    0.014    0.014 iostream.py:157(_handle_event)\n",
            "        1    0.000    0.000    0.000    0.000 iostream.py:213(_is_master_process)\n",
            "        1    0.000    0.000    0.000    0.000 iostream.py:216(_check_mp_mode)\n",
            "        1    0.000    0.000    0.000    0.000 iostream.py:255(closed)\n",
            "        1    0.000    0.000    0.000    0.000 kernelbase.py:302(poll_control_queue)\n",
            "        1    0.000    0.000    0.000    0.000 queue.py:209(_qsize)\n",
            "        1    0.000    0.000    0.000    0.000 queue.py:97(empty)\n",
            "        1    0.000    0.000    0.000    0.000 queues.py:173(qsize)\n",
            "        1    0.000    0.000    0.000    0.000 queues.py:225(get)\n",
            "        1    0.000    0.000    0.000    0.000 queues.py:256(get_nowait)\n",
            "        1    0.000    0.000    0.000    0.000 queues.py:322(_consume_expired)\n",
            "        1    0.000    0.000    0.000    0.000 queues.py:59(_set_timeout)\n",
            "        1    0.000    0.000    0.000    0.000 selector_events.py:141(_write_to_self)\n",
            "        2    0.000    0.000    0.000    0.000 selector_events.py:750(_process_events)\n",
            "      1/0    0.001    0.001    0.000          selectors.py:558(select)\n",
            "        8    0.003    0.000    0.019    0.002 socket.py:626(send)\n",
            "        1    0.000    0.000    0.000    0.000 socket.py:774(recv_multipart)\n",
            "        3    0.000    0.000    0.000    0.000 threading.py:299(__enter__)\n",
            "        3    0.000    0.000    0.000    0.000 threading.py:302(__exit__)\n",
            "        1    0.000    0.000    0.000    0.000 threading.py:308(_release_save)\n",
            "        1    0.000    0.000    0.000    0.000 threading.py:311(_acquire_restore)\n",
            "        1    0.000    0.000    0.000    0.000 threading.py:314(_is_owned)\n",
            "        1    0.000    0.000    0.000    0.000 threading.py:394(notify)\n",
            "        1    0.000    0.000    0.000    0.000 threading.py:424(notify_all)\n",
            "        1    0.000    0.000    0.000    0.000 threading.py:627(clear)\n",
            "        1    0.000    0.000    0.000    0.000 traitlets.py:1512(_notify_trait)\n",
            "        1    0.000    0.000    0.000    0.000 traitlets.py:1523(notify_change)\n",
            "        1    0.000    0.000    0.000    0.000 traitlets.py:1527(_notify_observers)\n",
            "        2    0.000    0.000    0.000    0.000 traitlets.py:2304(validate)\n",
            "        2    0.000    0.000    0.000    0.000 traitlets.py:3474(validate)\n",
            "        2    0.000    0.000    0.000    0.000 traitlets.py:3486(validate_elements)\n",
            "        2    0.000    0.000    0.000    0.000 traitlets.py:3624(validate_elements)\n",
            "        2    0.000    0.000    0.000    0.000 traitlets.py:3631(set)\n",
            "        6    0.000    0.000    0.000    0.000 traitlets.py:629(get)\n",
            "        6    0.000    0.000    0.000    0.000 traitlets.py:676(__get__)\n",
            "        2    0.000    0.000    0.000    0.000 traitlets.py:689(set)\n",
            "        2    0.000    0.000    0.000    0.000 traitlets.py:708(__set__)\n",
            "        2    0.000    0.000    0.000    0.000 traitlets.py:718(_validate)\n",
            "        2    0.000    0.000    0.000    0.000 traitlets.py:727(_cross_validate)\n",
            "        1    0.000    0.000    0.000    0.000 typing.py:1194(__instancecheck__)\n",
            "        2    0.000    0.000    0.000    0.000 typing.py:1258(__hash__)\n",
            "        1    0.000    0.000    0.000    0.000 typing.py:1465(__subclasscheck__)\n",
            "       23    0.000    0.000    0.000    0.000 typing.py:2154(cast)\n",
            "        3    0.000    0.000    0.000    0.000 typing.py:392(inner)\n",
            "        2    0.000    0.000    0.000    0.000 zmqstream.py:538(receiving)\n",
            "        1    0.000    0.000    0.000    0.000 zmqstream.py:542(sending)\n",
            "        1    0.000    0.000    0.014    0.014 zmqstream.py:556(_run_callback)\n",
            "        1    0.000    0.000    0.014    0.014 zmqstream.py:583(_handle_events)\n",
            "        1    0.000    0.000    0.014    0.014 zmqstream.py:624(_handle_recv)\n",
            "        1    0.000    0.000    0.000    0.000 zmqstream.py:663(_rebuild_io_state)\n",
            "        1    0.000    0.000    0.000    0.000 zmqstream.py:686(_update_handler)\n",
            "        1    0.000    0.000    0.014    0.014 zmqstream.py:694(<lambda>)\n",
            "        1    0.000    0.000    0.000    0.000 {built-in method _abc._abc_subclasscheck}\n",
            "        1    0.000    0.000    0.000    0.000 {built-in method _asyncio.get_running_loop}\n",
            "        2    0.000    0.000    0.000    0.000 {built-in method _contextvars.copy_context}\n",
            "        1    0.000    0.000    0.000    0.000 {built-in method _thread.allocate_lock}\n",
            "        1    0.000    0.000    0.014    0.014 {built-in method builtins.exec}\n",
            "        2    0.000    0.000    0.000    0.000 {built-in method builtins.getattr}\n",
            "        7    0.000    0.000    0.000    0.000 {built-in method builtins.hasattr}\n",
            "        2    0.000    0.000    0.000    0.000 {built-in method builtins.hash}\n",
            "    80/78    0.000    0.000    0.000    0.000 {built-in method builtins.isinstance}\n",
            "        1    0.000    0.000    0.000    0.000 {built-in method builtins.issubclass}\n",
            "        2    0.000    0.000    0.000    0.000 {built-in method builtins.iter}\n",
            "       10    0.000    0.000    0.000    0.000 {built-in method builtins.len}\n",
            "        1    0.000    0.000    0.000    0.000 {built-in method builtins.max}\n",
            "        6    0.000    0.000    0.000    0.000 {built-in method builtins.next}\n",
            "        1    0.000    0.000    0.000    0.000 {built-in method posix.getpid}\n",
            "        2    0.000    0.000    0.000    0.000 {built-in method time.monotonic}\n",
            "        1    0.000    0.000    0.000    0.000 {method '__enter__' of '_thread.RLock' objects}\n",
            "        2    0.000    0.000    0.000    0.000 {method '__enter__' of '_thread.lock' objects}\n",
            "        1    0.000    0.000    0.000    0.000 {method '__exit__' of '_thread.RLock' objects}\n",
            "        5    0.000    0.000    0.000    0.000 {method '__exit__' of '_thread.lock' objects}\n",
            "        2    0.000    0.000    0.000    0.000 {method '__exit__' of 'sqlite3.Connection' objects}\n",
            "        1    0.000    0.000    0.000    0.000 {method '_is_owned' of '_thread.RLock' objects}\n",
            "        3    0.000    0.000    0.000    0.000 {method 'acquire' of '_thread.lock' objects}\n",
            "        4    0.000    0.000    0.000    0.000 {method 'append' of 'collections.deque' objects}\n",
            "        4    0.000    0.000    0.000    0.000 {method 'append' of 'list' objects}\n",
            "        1    0.000    0.000    0.000    0.000 {method 'cancelled' of '_asyncio.Future' objects}\n",
            "      1/0    0.000    0.000    0.000          {method 'control' of 'select.kqueue' objects}\n",
            "        1    0.000    0.000    0.000    0.000 {method 'disable' of '_lsprof.Profiler' objects}\n",
            "        1    0.001    0.001    0.006    0.006 {method 'execute' of 'sqlite3.Connection' objects}\n",
            "        2    0.000    0.000    0.000    0.000 {method 'extend' of 'list' objects}\n",
            "        4    0.000    0.000    0.000    0.000 {method 'get' of 'dict' objects}\n",
            "        3    0.000    0.000    0.000    0.000 {method 'items' of 'mappingproxy' objects}\n",
            "        3    0.000    0.000    0.000    0.000 {method 'popleft' of 'collections.deque' objects}\n",
            "        1    0.000    0.000    0.000    0.000 {method 'release' of '_thread.lock' objects}\n",
            "        2    0.000    0.000    0.014    0.007 {method 'run' of '_contextvars.Context' objects}\n",
            "        1    0.000    0.000    0.000    0.000 {method 'send' of '_socket.socket' objects}\n",
            "        2    0.000    0.000    0.000    0.000 {method 'upper' of 'str' objects}\n",
            "        1    0.000    0.000    0.000    0.000 {method 'values' of 'mappingproxy' objects}\n",
            "\n",
            "\n"
          ]
        }
      ],
      "source": [
        "cProfile.run('sum_of_primes_naive(numbers)')"
      ]
    },
    {
      "cell_type": "code",
      "execution_count": null,
      "metadata": {},
      "outputs": [],
      "source": []
    }
  ],
  "metadata": {
    "colab": {
      "authorship_tag": "ABX9TyNkrT5Jl+R5OS7nYZnRYW5j",
      "provenance": []
    },
    "kernelspec": {
      "display_name": ".venv",
      "language": "python",
      "name": "python3"
    },
    "language_info": {
      "codemirror_mode": {
        "name": "ipython",
        "version": 3
      },
      "file_extension": ".py",
      "mimetype": "text/x-python",
      "name": "python",
      "nbconvert_exporter": "python",
      "pygments_lexer": "ipython3",
      "version": "3.12.3"
    }
  },
  "nbformat": 4,
  "nbformat_minor": 0
}
