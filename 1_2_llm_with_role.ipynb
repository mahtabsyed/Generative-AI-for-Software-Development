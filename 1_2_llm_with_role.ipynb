{
 "cells": [
  {
   "cell_type": "code",
   "execution_count": 1,
   "metadata": {},
   "outputs": [
    {
     "name": "stdout",
     "output_type": "stream",
     "text": [
      "120\n",
      "1\n",
      "5040\n"
     ]
    }
   ],
   "source": [
    "# Write a  Python function to calculate a factorial accepting only positive integers as valid input with examples of usage\n",
    "\n",
    "# BEGIN: Function to calculate factorial with examples\n",
    "# Function to calculate factorial accepting only positive integers as valid input\n",
    "def factorial(n):\n",
    "    if not isinstance(n, int) or n < 0:\n",
    "        raise ValueError(\"Input must be a positive integer\")\n",
    "    if n == 0 or n == 1:\n",
    "        return 1\n",
    "    result = 1\n",
    "    for i in range(2, n + 1):\n",
    "        result *= i\n",
    "    return result\n",
    "\n",
    "# Examples of usage\n",
    "print(factorial(5))  # Output: 120\n",
    "print(factorial(0))  # Output: 1\n",
    "print(factorial(7))  # Output: 5040\n",
    "\n",
    "# END: Function to calculate factorial with examples"
   ]
  },
  {
   "cell_type": "code",
   "execution_count": null,
   "metadata": {},
   "outputs": [],
   "source": [
    "# As my Python mentor, please write a  Python function to calculate a factorial accepting only positive integers as valid input, and explain how it works\n",
    "# Function to calculate factorial accepting only positive integers as valid input\n",
    "def factorial(n):\n",
    "    \"\"\"\n",
    "    Calculate the factorial of a positive integer n.\n",
    "\n",
    "    Parameters:\n",
    "    n (int): A positive integer whose factorial is to be calculated\n",
    "\n",
    "    Returns:\n",
    "    int: Factorial of the input integer n\n",
    "\n",
    "    Raises:\n",
    "    ValueError: If the input is not a positive integer\n",
    "    \"\"\"\n",
    "    if not isinstance(n, int) or n < 0:\n",
    "        raise ValueError(\"Input must be a positive integer\")\n",
    "    if n == 0 or n == 1:\n",
    "        return 1\n",
    "    result = 1\n",
    "    for i in range(2, n + 1):\n",
    "        result *= i\n",
    "    return result\n",
    "\n",
    "# Examples of usage\n",
    "print(factorial(5))  # Output: 120\n",
    "print(factorial(0))  # Output: 1\n",
    "print(factorial(7))  # Output: 5040"
   ]
  },
  {
   "cell_type": "code",
   "execution_count": null,
   "metadata": {},
   "outputs": [],
   "source": [
    "# Write a Python function to calculate binary gap\n",
    "def binary_gap(N):\n",
    "    \"\"\"\n",
    "    Calculate the longest binary gap in the binary representation of a positive integer N.\n",
    "\n",
    "    Parameters:\n",
    "    N (int): A positive integer\n",
    "\n",
    "    Returns:\n",
    "    int: The length of the longest binary gap\n",
    "\n",
    "    Raises:\n",
    "    ValueError: If the input is not a positive integer\n",
    "    \"\"\"\n",
    "    if not isinstance(N, int) or N <= 0:\n",
    "        raise ValueError(\"Input must be a positive integer\")\n",
    "\n",
    "    binary_representation = bin(N)[2:]  # Convert to binary and remove the '0b' prefix\n",
    "    gaps = binary_representation.strip('0').split('1')\n",
    "    longest_gap = max(gaps, key=len)\n",
    "    return len(longest_gap)\n",
    "\n",
    "# Examples of usage\n",
    "print(binary_gap(9))    # Output: 2 (binary representation is '1001')\n",
    "print(binary_gap(529))  # Output: 4 (binary representation is '1000010001')\n",
    "print(binary_gap(20))   # Output: 1 (binary representation is '10100')"
   ]
  },
  {
   "cell_type": "code",
   "execution_count": 2,
   "metadata": {},
   "outputs": [
    {
     "name": "stdout",
     "output_type": "stream",
     "text": [
      "2\n",
      "4\n",
      "1\n"
     ]
    }
   ],
   "source": [
    "# As my Python mentor, please write a  Python function to calculate binary gap\n",
    "def binary_gap(N):\n",
    "    \"\"\"\n",
    "    Calculate the longest binary gap in the binary representation of a positive integer N.\n",
    "\n",
    "    Parameters:\n",
    "    N (int): A positive integer\n",
    "\n",
    "    Returns:\n",
    "    int: The length of the longest binary gap\n",
    "\n",
    "    Raises:\n",
    "    ValueError: If the input is not a positive integer\n",
    "    \"\"\"\n",
    "    if not isinstance(N, int) or N <= 0:\n",
    "        raise ValueError(\"Input must be a positive integer\")\n",
    "\n",
    "    binary_representation = bin(N)[2:]  # Convert to binary and remove the '0b' prefix\n",
    "    gaps = binary_representation.strip('0').split('1')\n",
    "    longest_gap = max(gaps, key=len)\n",
    "    return len(longest_gap)\n",
    "\n",
    "# Examples of usage\n",
    "print(binary_gap(9))    # Output: 2 (binary representation is '1001')\n",
    "print(binary_gap(529))  # Output: 4 (binary representation is '1000010001')\n",
    "print(binary_gap(20))   # Output: 1 (binary representation is '10100')"
   ]
  },
  {
   "cell_type": "code",
   "execution_count": 1,
   "metadata": {},
   "outputs": [
    {
     "name": "stdout",
     "output_type": "stream",
     "text": [
      "[0, 1, 2, 3, 4, 5, 6]\n"
     ]
    }
   ],
   "source": [
    "# Explain how to create a list in Python and add elements to it\n",
    "\n",
    "# Creating a list in Python and adding elements to it\n",
    "# Creating an empty list\n",
    "my_list = []\n",
    "\n",
    "# Adding elements to the list using append() method\n",
    "my_list.append(1)\n",
    "my_list.append(2)\n",
    "my_list.append(3)\n",
    "\n",
    "# Adding multiple elements to the list using extend() method\n",
    "my_list.extend([4, 5, 6])\n",
    "\n",
    "# Adding an element at a specific position using insert() method\n",
    "my_list.insert(0, 0)  # Inserts 0 at the beginning of the list\n",
    "\n",
    "# Printing the list to see the added elements\n",
    "print(my_list)  # Output: [0, 1, 2, 3, 4, 5, 6]"
   ]
  },
  {
   "cell_type": "code",
   "execution_count": 2,
   "metadata": {},
   "outputs": [
    {
     "name": "stdout",
     "output_type": "stream",
     "text": [
      "[0, 10, 20, 30, 40, 50, 60]\n"
     ]
    }
   ],
   "source": [
    "# As a beginner Python tutor, explain how to create a list in Python and add elements to it.\n",
    "\n",
    "# Creating a list in Python and adding elements to it\n",
    "# Lists in Python are used to store multiple items in a single variable.\n",
    "# Lists are created using square brackets [].\n",
    "\n",
    "# Creating an empty list\n",
    "my_new_list = []\n",
    "\n",
    "# Adding elements to the list using append() method\n",
    "# The append() method adds a single element to the end of the list.\n",
    "my_new_list.append(10)\n",
    "my_new_list.append(20)\n",
    "my_new_list.append(30)\n",
    "\n",
    "# Adding multiple elements to the list using extend() method\n",
    "# The extend() method adds each element of the iterable (e.g., list) to the end of the list.\n",
    "my_new_list.extend([40, 50, 60])\n",
    "\n",
    "# Adding an element at a specific position using insert() method\n",
    "# The insert() method inserts an element at the specified position.\n",
    "my_new_list.insert(0, 0)  # Inserts 0 at the beginning of the list\n",
    "\n",
    "# Printing the list to see the added elements\n",
    "print(my_new_list)  # Output: [0, 10, 20, 30, 40, 50, 60]"
   ]
  },
  {
   "cell_type": "code",
   "execution_count": 3,
   "metadata": {},
   "outputs": [
    {
     "name": "stdout",
     "output_type": "stream",
     "text": [
      "Using for loop:\n",
      "0\n",
      "1\n",
      "2\n",
      "3\n",
      "4\n",
      "5\n",
      "6\n",
      "\n",
      "Using while loop:\n",
      "0\n",
      "10\n",
      "20\n",
      "30\n",
      "40\n",
      "50\n",
      "60\n"
     ]
    }
   ],
   "source": [
    "# As a friendly code guide can you write the code and explain me how loops work in Python\n",
    "\n",
    "# Loops in Python\n",
    "\n",
    "# For loop\n",
    "# A for loop is used for iterating over a sequence (such as a list, tuple, dictionary, set, or string).\n",
    "# This is less like the for keyword in other programming languages, and works more like an iterator method as found in other object-orientated programming languages.\n",
    "\n",
    "# Example: Using a for loop to iterate over a list\n",
    "print(\"Using for loop:\")\n",
    "for element in my_list:\n",
    "    print(element)\n",
    "\n",
    "# While loop\n",
    "# With the while loop we can execute a set of statements as long as a condition is true.\n",
    "\n",
    "# Example: Using a while loop to iterate until a condition is met\n",
    "print(\"\\nUsing while loop:\")\n",
    "i = 0\n",
    "while i < len(my_new_list):\n",
    "    print(my_new_list[i])\n",
    "    i += 1\n",
    "\n",
    "# Explanation:\n",
    "# The for loop iterates over each element in the list 'my_list' and prints it.\n",
    "# The while loop continues to execute as long as the condition (i < len(my_new_list)) is true.\n",
    "# In each iteration, it prints the current element of 'my_new_list' and then increments the index 'i' by 1."
   ]
  },
  {
   "cell_type": "code",
   "execution_count": null,
   "metadata": {},
   "outputs": [],
   "source": [
    "import json\n",
    "def storeuserdata(user_data):\n",
    "    database = open(\"database.txt\", \"a\")\n",
    "    database.write(str(user_data))\n",
    "    database.close()\n",
    "storeuserdata(\"username\" : \"admin\", \"password\" : \"1234\") \n",
    "\n",
    "\n",
    "# As a software architect and a security expert, evaluate this Python code for a web application and suggest architectural improvements and security enhancements.\n",
    "\n",
    "def storeuserdata(user_data):\n",
    "    # Validate input data\n",
    "    if not isinstance(user_data, dict):\n",
    "        raise ValueError(\"User data must be a dictionary\")\n",
    "    if \"username\" not in user_data or \"password\" not in user_data:\n",
    "        raise ValueError(\"User data must contain 'username' and 'password' keys\")\n",
    "\n",
    "    # Sanitize input data\n",
    "    username = user_data[\"username\"].replace(\"\\n\", \"\").replace(\"\\r\", \"\")\n",
    "    password = user_data[\"password\"].replace(\"\\n\", \"\").replace(\"\\r\", \"\")\n",
    "\n",
    "    # Store data securely\n",
    "    with open(\"database.txt\", \"a\") as database:\n",
    "        database.write(json.dumps({\"username\": username, \"password\": password}) + \"\\n\")\n",
    "\n",
    "# Example usage\n",
    "storeuserdata({\"username\": \"admin\", \"password\": \"1234\"})"
   ]
  },
  {
   "cell_type": "code",
   "execution_count": null,
   "metadata": {},
   "outputs": [],
   "source": []
  }
 ],
 "metadata": {
  "kernelspec": {
   "display_name": ".venv",
   "language": "python",
   "name": "python3"
  },
  "language_info": {
   "codemirror_mode": {
    "name": "ipython",
    "version": 3
   },
   "file_extension": ".py",
   "mimetype": "text/x-python",
   "name": "python",
   "nbconvert_exporter": "python",
   "pygments_lexer": "ipython3",
   "version": "3.12.3"
  }
 },
 "nbformat": 4,
 "nbformat_minor": 2
}
