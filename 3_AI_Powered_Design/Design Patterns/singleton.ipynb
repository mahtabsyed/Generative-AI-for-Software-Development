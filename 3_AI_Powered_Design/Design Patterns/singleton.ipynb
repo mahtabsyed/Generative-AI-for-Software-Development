{
 "cells": [
  {
   "cell_type": "code",
   "execution_count": null,
   "metadata": {},
   "outputs": [],
   "source": [
    "# As a Solution Architect and Senior Developer can you write a Python code to develop a Singleton Design Pattern? And also write a code to demonstrate how to use it? Add documentation to your code to explain how it works."
   ]
  },
  {
   "cell_type": "code",
   "execution_count": 1,
   "metadata": {},
   "outputs": [
    {
     "name": "stdout",
     "output_type": "stream",
     "text": [
      "First Instance\n",
      "First Instance\n",
      "True\n"
     ]
    }
   ],
   "source": [
    "class SingletonMeta(type):\n",
    "    \"\"\"\n",
    "    This is a thread-safe implementation of Singleton.\n",
    "    \"\"\"\n",
    "\n",
    "    _instances = {}\n",
    "\n",
    "    def __call__(cls, *args, **kwargs):\n",
    "        if cls not in cls._instances:\n",
    "            instance = super().__call__(*args, **kwargs)\n",
    "            cls._instances[cls] = instance\n",
    "        return cls._instances[cls]\n",
    "\n",
    "\n",
    "class Singleton(metaclass=SingletonMeta):\n",
    "    \"\"\"\n",
    "    Example class using SingletonMeta to ensure only one instance.\n",
    "    \"\"\"\n",
    "\n",
    "    def __init__(self, value):\n",
    "        self.value = value\n",
    "\n",
    "\n",
    "# Demonstration of Singleton usage\n",
    "singleton1 = Singleton(\"First Instance\")\n",
    "print(singleton1.value)  # Output: First Instance\n",
    "\n",
    "singleton2 = Singleton(\"Second Instance\")\n",
    "print(singleton2.value)  # Output: First Instance\n",
    "\n",
    "# Both instances are the same\n",
    "print(singleton1 is singleton2)  # Output: True"
   ]
  },
  {
   "cell_type": "code",
   "execution_count": 7,
   "metadata": {},
   "outputs": [
    {
     "name": "stdout",
     "output_type": "stream",
     "text": [
      "In _new_ Creating new instance: <__main__.SimpleSingleton object at 0x10880c5c0>\n",
      "In __init__ Initializing instance: <__main__.SimpleSingleton object at 0x10880c5c0>\n",
      "First Instance\n",
      "First Instance\n",
      "True\n"
     ]
    }
   ],
   "source": [
    "\"\"\"\n",
    "SimpleSingleton class ensures that only one instance of the class is created.\n",
    "\n",
    "Methods:\n",
    "    __new__(cls, *args, **kwargs):\n",
    "        Called when a new instance is created. Ensures only one instance is created.\n",
    "    __init__(self, value):\n",
    "        Called after the instance is created. Initializes the instance if not already initialized.\n",
    "\"\"\"\n",
    "\n",
    "\n",
    "# Define a simple singleton class\n",
    "class SimpleSingleton:\n",
    "    _instance = None\n",
    "\n",
    "    def __new__(cls, *args, **kwargs):\n",
    "        if not cls._instance:\n",
    "            cls._instance = super().__new__(cls)\n",
    "            print(f\"In _new_ Creating new instance: {cls._instance}\")\n",
    "        return cls._instance\n",
    "\n",
    "    def __init__(self, value):\n",
    "        if not hasattr(self, \"initialized\"):  # Ensure __init__ is only called once\n",
    "            print(f\"In __init__ Initializing instance: {self}\")\n",
    "            self.value = value\n",
    "            self.initialized = True\n",
    "\n",
    "\n",
    "# Demonstration of SimpleSingleton usage\n",
    "singleton1 = SimpleSingleton(\"First Instance\")\n",
    "print(singleton1.value)  # Output: First Instance\n",
    "\n",
    "singleton2 = SimpleSingleton(\"Second Instance\")\n",
    "print(singleton2.value)  # Output: First Instance\n",
    "\n",
    "# Both instances are the same\n",
    "print(singleton1 is singleton2)  # Output: True"
   ]
  },
  {
   "cell_type": "code",
   "execution_count": 11,
   "metadata": {},
   "outputs": [
    {
     "name": "stdout",
     "output_type": "stream",
     "text": [
      "First Instance\n",
      "First Instance\n",
      "True\n",
      "First Instance\n"
     ]
    }
   ],
   "source": [
    "class SuperSimpleSingleton:\n",
    "    _instance = None\n",
    "\n",
    "    @staticmethod\n",
    "    def get_instance(value=None):\n",
    "        if SuperSimpleSingleton._instance is None:\n",
    "            SuperSimpleSingleton._instance = SuperSimpleSingleton(value)\n",
    "        return SuperSimpleSingleton._instance\n",
    "\n",
    "    def __init__(self, value):\n",
    "        if SuperSimpleSingleton._instance is not None:\n",
    "            raise Exception(\"This class is a singleton!\")\n",
    "        else:\n",
    "            self.value = value\n",
    "\n",
    "\n",
    "# Demonstration of SuperSimpleSingleton usage\n",
    "singleton1 = SuperSimpleSingleton.get_instance(\"First Instance\")\n",
    "print(singleton1.value)  # Output: First Instance\n",
    "\n",
    "singleton2 = SuperSimpleSingleton.get_instance(\"Second Instance\")\n",
    "print(singleton2.value)  # Output: First Instance\n",
    "\n",
    "# Both instances are the same\n",
    "print(singleton1 is singleton2)  # Output: True\n",
    "\n",
    "# print(SuperSimpleSingleton(\"Another Instance\"))  # Output: Exception: This class is a singleton!\n",
    "\n",
    "print(SuperSimpleSingleton.get_instance().value)  # Output: First Instance"
   ]
  },
  {
   "cell_type": "code",
   "execution_count": 17,
   "metadata": {},
   "outputs": [
    {
     "name": "stdout",
     "output_type": "stream",
     "text": [
      "None\n",
      "{'Database': 'Postgres', 'Cloud': 'Azure'}\n",
      "{'Database': 'Postgres', 'Cloud': 'Azure'}\n",
      "True\n",
      "Instances ae the same True\n"
     ]
    }
   ],
   "source": [
    "# To the SuperSimpleSingleton class, can you add a dictionary attribute to store key-value pairs and a method to add key-value pairs to the dictionary? Add a method to get the value of a key from the dictionary. Add a method to get all key-value pairs from the dictionary.\n",
    "class SuperSimpleSingleton:\n",
    "    _instance = None\n",
    "\n",
    "    @staticmethod\n",
    "    def get_instance(value=None):\n",
    "        if SuperSimpleSingleton._instance is None:\n",
    "            SuperSimpleSingleton._instance = SuperSimpleSingleton(value)\n",
    "        return SuperSimpleSingleton._instance\n",
    "\n",
    "    def __init__(self, value):\n",
    "        if SuperSimpleSingleton._instance is not None:\n",
    "            raise Exception(\"This class is a singleton!\")\n",
    "        else:\n",
    "            self.value = value\n",
    "            self.data = {}\n",
    "\n",
    "    def add_key_value(self, key, value):\n",
    "        self.data[key] = value\n",
    "\n",
    "    def get_value(self, key):\n",
    "        return self.data.get(key)\n",
    "\n",
    "    def get_all_key_values(self):\n",
    "        return self.data\n",
    "\n",
    "\n",
    "# Demonstration of SuperSimpleSingleton usage with dictionary\n",
    "singleton1 = SuperSimpleSingleton.get_instance(\"First Instance\")\n",
    "singleton1.add_key_value(\"Database\", \"Postgres\")\n",
    "singleton1.add_key_value(\"Cloud\", \"Azure\")\n",
    "\n",
    "print(singleton1.get_value(\"key1\"))  # Output: value1\n",
    "print(singleton1.get_all_key_values())  # Output: {'key1': 'value1', 'key2': 'value2'}\n",
    "\n",
    "singleton2 = SuperSimpleSingleton.get_instance(\"Second Instance\")\n",
    "print(singleton2.get_all_key_values())  # Output: {'key1': 'value1', 'key2': 'value2'}\n",
    "\n",
    "# Both instances are the same\n",
    "print(singleton1 is singleton2)  # Output: True\n",
    "\n",
    "assert singleton1 is singleton2\n",
    "print(\"Instances ae the same\", singleton1 is singleton2)  # Output: True"
   ]
  },
  {
   "cell_type": "code",
   "execution_count": null,
   "metadata": {},
   "outputs": [],
   "source": []
  }
 ],
 "metadata": {
  "kernelspec": {
   "display_name": ".venv",
   "language": "python",
   "name": "python3"
  },
  "language_info": {
   "codemirror_mode": {
    "name": "ipython",
    "version": 3
   },
   "file_extension": ".py",
   "mimetype": "text/x-python",
   "name": "python",
   "nbconvert_exporter": "python",
   "pygments_lexer": "ipython3",
   "version": "3.12.3"
  }
 },
 "nbformat": 4,
 "nbformat_minor": 2
}
