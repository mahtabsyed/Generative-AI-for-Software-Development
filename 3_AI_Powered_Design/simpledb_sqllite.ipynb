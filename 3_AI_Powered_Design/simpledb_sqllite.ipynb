{
 "cells": [
  {
   "cell_type": "code",
   "execution_count": null,
   "metadata": {},
   "outputs": [
    {
     "name": "stdout",
     "output_type": "stream",
     "text": [
      "   ID     Name  Age Grade\n",
      "0   1    Alice   14   8th\n",
      "1   2      Bob   15   9th\n",
      "2   3  Charlie   13   7th\n"
     ]
    }
   ],
   "source": [
    "# Step 1: Import Required Libraries\n",
    "import sqlite3\n",
    "import pandas as pd\n",
    "\n",
    "# Step 2: Create and Connect to an SQLite Database\n",
    "# This will create a file 'example.db' in the current directory\n",
    "conn = sqlite3.connect(\"example.db\")\n",
    "\n",
    "# Step 3: Create a Table\n",
    "# Create a cursor object using the connection\n",
    "cur = conn.cursor()\n",
    "\n",
    "# Define a table schema\n",
    "cur.execute(\n",
    "    \"\"\"\n",
    "CREATE TABLE IF NOT EXISTS students (\n",
    "    id INTEGER PRIMARY KEY AUTOINCREMENT,\n",
    "    name TEXT NOT NULL,\n",
    "    age INTEGER,\n",
    "    grade TEXT\n",
    ")\n",
    "\"\"\"\n",
    ")\n",
    "\n",
    "# Step 4: Insert Data\n",
    "# Insert some sample data into the table\n",
    "cur.execute(\"INSERT INTO students (name, age, grade) VALUES ('Alice', 14, '8th')\")\n",
    "cur.execute(\"INSERT INTO students (name, age, grade) VALUES ('Bob', 15, '9th')\")\n",
    "cur.execute(\"INSERT INTO students (name, age, grade) VALUES ('Charlie', 13, '7th')\")\n",
    "\n",
    "# Commit the changes\n",
    "conn.commit()\n",
    "\n",
    "# Step 5: Query the Database\n",
    "# Fetch all records from the table\n",
    "cur.execute(\"SELECT * FROM students\")\n",
    "rows = cur.fetchall()\n",
    "\n",
    "# Display the data using pandas for better readability\n",
    "df = pd.DataFrame(rows, columns=[\"ID\", \"Name\", \"Age\", \"Grade\"])\n",
    "print(df)\n",
    "\n",
    "# Close the connection\n",
    "conn.close()"
   ]
  },
  {
   "cell_type": "code",
   "execution_count": null,
   "metadata": {},
   "outputs": [
    {
     "name": "stdout",
     "output_type": "stream",
     "text": [
      "[(1, 'Alice', 14, '8th'), (2, 'Bob', 15, '9th'), (3, 'Charlie', 13, '7th')]\n"
     ]
    }
   ],
   "source": [
    "conn = sqlite3.connect(\"example.db\")\n",
    "cur = conn.cursor()\n",
    "cur.execute(\"SELECT * FROM students\")\n",
    "rows = cur.fetchall()\n",
    "print(rows)\n",
    "conn.close()"
   ]
  },
  {
   "cell_type": "code",
   "execution_count": null,
   "metadata": {},
   "outputs": [],
   "source": []
  }
 ],
 "metadata": {
  "kernelspec": {
   "display_name": ".venv",
   "language": "python",
   "name": "python3"
  },
  "language_info": {
   "codemirror_mode": {
    "name": "ipython",
    "version": 3
   },
   "file_extension": ".py",
   "mimetype": "text/x-python",
   "name": "python",
   "nbconvert_exporter": "python",
   "pygments_lexer": "ipython3",
   "version": "3.12.3"
  }
 },
 "nbformat": 4,
 "nbformat_minor": 2
}
