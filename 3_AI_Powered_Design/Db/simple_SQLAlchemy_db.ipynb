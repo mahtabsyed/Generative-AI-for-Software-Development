{
 "cells": [
  {
   "cell_type": "markdown",
   "metadata": {},
   "source": [
    "## Simple SQLAlchemy DB"
   ]
  },
  {
   "cell_type": "code",
   "execution_count": null,
   "metadata": {},
   "outputs": [],
   "source": [
    "# !pip install sqlalchemy"
   ]
  },
  {
   "cell_type": "code",
   "execution_count": 1,
   "metadata": {},
   "outputs": [],
   "source": [
    "from sqlalchemy import create_engine, text, Column, Integer, String\n",
    "from sqlalchemy.ext.declarative import declarative_base\n",
    "from sqlalchemy.orm import sessionmaker\n",
    "import pandas as pd"
   ]
  },
  {
   "cell_type": "code",
   "execution_count": 2,
   "metadata": {},
   "outputs": [],
   "source": [
    "# Create a database engine\n",
    "engine = create_engine(\"sqlite:///simpleORM.db\", echo=True)"
   ]
  },
  {
   "cell_type": "code",
   "execution_count": 3,
   "metadata": {},
   "outputs": [
    {
     "name": "stdout",
     "output_type": "stream",
     "text": [
      "2025-01-20 20:34:45,281 INFO sqlalchemy.engine.Engine BEGIN (implicit)\n",
      "2025-01-20 20:34:45,281 INFO sqlalchemy.engine.Engine SELECT 1\n",
      "2025-01-20 20:34:45,282 INFO sqlalchemy.engine.Engine [generated in 0.00153s] ()\n",
      "1\n",
      "2025-01-20 20:34:45,283 INFO sqlalchemy.engine.Engine ROLLBACK\n"
     ]
    }
   ],
   "source": [
    "# check if connection is successful\n",
    "with engine.connect() as con:\n",
    "    rs = con.execute(text(\"SELECT 1\"))\n",
    "    print(rs.scalar())"
   ]
  },
  {
   "cell_type": "code",
   "execution_count": 3,
   "metadata": {},
   "outputs": [
    {
     "name": "stdout",
     "output_type": "stream",
     "text": [
      "2025-01-20 20:27:49,822 INFO sqlalchemy.engine.Engine BEGIN (implicit)\n",
      "2025-01-20 20:27:49,823 INFO sqlalchemy.engine.Engine PRAGMA main.table_info(\"users\")\n",
      "2025-01-20 20:27:49,823 INFO sqlalchemy.engine.Engine [raw sql] ()\n",
      "2025-01-20 20:27:49,824 INFO sqlalchemy.engine.Engine PRAGMA temp.table_info(\"users\")\n",
      "2025-01-20 20:27:49,824 INFO sqlalchemy.engine.Engine [raw sql] ()\n",
      "2025-01-20 20:27:49,832 INFO sqlalchemy.engine.Engine \n",
      "CREATE TABLE users (\n",
      "\tid INTEGER NOT NULL, \n",
      "\tname VARCHAR, \n",
      "\tage INTEGER, \n",
      "\tPRIMARY KEY (id)\n",
      ")\n",
      "\n",
      "\n",
      "2025-01-20 20:27:49,834 INFO sqlalchemy.engine.Engine [no key 0.00217s] ()\n",
      "2025-01-20 20:27:49,841 INFO sqlalchemy.engine.Engine COMMIT\n"
     ]
    },
    {
     "name": "stderr",
     "output_type": "stream",
     "text": [
      "/var/folders/bq/z1j1m8m17dx3szw_ngp40tyr0000gn/T/ipykernel_17322/2543202611.py:2: MovedIn20Warning: The ``declarative_base()`` function is now available as sqlalchemy.orm.declarative_base(). (deprecated since: 2.0) (Background on SQLAlchemy 2.0 at: https://sqlalche.me/e/b8d9)\n",
      "  Base = declarative_base()\n"
     ]
    }
   ],
   "source": [
    "# Define a base class for declarative class definitions\n",
    "Base = declarative_base()\n",
    "\n",
    "\n",
    "# Define a User model\n",
    "class User(Base):\n",
    "    __tablename__ = \"users\"\n",
    "    id = Column(Integer, primary_key=True)\n",
    "    name = Column(String)\n",
    "    age = Column(Integer)\n",
    "\n",
    "\n",
    "# Create the table in the database\n",
    "Base.metadata.create_all(engine)"
   ]
  },
  {
   "cell_type": "code",
   "execution_count": 4,
   "metadata": {},
   "outputs": [],
   "source": [
    "# Create a session\n",
    "Session = sessionmaker(bind=engine)\n",
    "session = Session()"
   ]
  },
  {
   "cell_type": "code",
   "execution_count": 5,
   "metadata": {},
   "outputs": [
    {
     "name": "stdout",
     "output_type": "stream",
     "text": [
      "2025-01-20 20:28:25,506 INFO sqlalchemy.engine.Engine BEGIN (implicit)\n",
      "2025-01-20 20:28:25,508 INFO sqlalchemy.engine.Engine INSERT INTO users (name, age) VALUES (?, ?) RETURNING id\n",
      "2025-01-20 20:28:25,508 INFO sqlalchemy.engine.Engine [generated in 0.00007s (insertmanyvalues) 1/2 (ordered; batch not supported)] ('Alice', 30)\n",
      "2025-01-20 20:28:25,509 INFO sqlalchemy.engine.Engine INSERT INTO users (name, age) VALUES (?, ?) RETURNING id\n",
      "2025-01-20 20:28:25,509 INFO sqlalchemy.engine.Engine [insertmanyvalues 2/2 (ordered; batch not supported)] ('Bob', 25)\n",
      "2025-01-20 20:28:25,510 INFO sqlalchemy.engine.Engine COMMIT\n"
     ]
    }
   ],
   "source": [
    "# Insert data into the table\n",
    "user1 = User(name=\"Alice\", age=30)\n",
    "user2 = User(name=\"Bob\", age=25)\n",
    "\n",
    "session.add(user1)\n",
    "session.add(user2)\n",
    "session.commit()"
   ]
  },
  {
   "cell_type": "code",
   "execution_count": 8,
   "metadata": {},
   "outputs": [
    {
     "name": "stdout",
     "output_type": "stream",
     "text": [
      "2025-01-20 20:28:47,829 INFO sqlalchemy.engine.Engine SELECT users.id AS users_id, users.name AS users_name, users.age AS users_age \n",
      "FROM users\n",
      "2025-01-20 20:28:47,830 INFO sqlalchemy.engine.Engine [cached since 13.85s ago] ()\n",
      "   id   name  age\n",
      "0   1  Alice   30\n",
      "1   2    Bob   25\n"
     ]
    }
   ],
   "source": [
    "# Query data from the table\n",
    "users = session.query(User).all()\n",
    "\n",
    "# Convert to a Pandas DataFrame\n",
    "df = pd.DataFrame(\n",
    "    [(user.id, user.name, user.age) for user in users], columns=[\"id\", \"name\", \"age\"]\n",
    ")\n",
    "\n",
    "# Display the DataFrame\n",
    "print(df)"
   ]
  },
  {
   "cell_type": "code",
   "execution_count": 9,
   "metadata": {},
   "outputs": [
    {
     "name": "stdout",
     "output_type": "stream",
     "text": [
      "2025-01-20 20:29:00,560 INFO sqlalchemy.engine.Engine ROLLBACK\n"
     ]
    }
   ],
   "source": [
    "# Close the session\n",
    "session.close()"
   ]
  },
  {
   "cell_type": "code",
   "execution_count": null,
   "metadata": {},
   "outputs": [],
   "source": []
  }
 ],
 "metadata": {
  "kernelspec": {
   "display_name": ".venv",
   "language": "python",
   "name": "python3"
  },
  "language_info": {
   "codemirror_mode": {
    "name": "ipython",
    "version": 3
   },
   "file_extension": ".py",
   "mimetype": "text/x-python",
   "name": "python",
   "nbconvert_exporter": "python",
   "pygments_lexer": "ipython3",
   "version": "3.12.3"
  }
 },
 "nbformat": 4,
 "nbformat_minor": 2
}
