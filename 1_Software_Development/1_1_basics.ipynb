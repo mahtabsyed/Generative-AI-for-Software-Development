{
 "cells": [
  {
   "cell_type": "code",
   "execution_count": 4,
   "metadata": {},
   "outputs": [],
   "source": [
    "# Write a function that calculates the area of a circle given the radius of that circle."
   ]
  },
  {
   "cell_type": "code",
   "execution_count": 1,
   "metadata": {},
   "outputs": [],
   "source": [
    "import math\n",
    "\n",
    "def calculate_circle_area(radius):\n",
    "    return math.pi * (radius ** 2)"
   ]
  },
  {
   "cell_type": "code",
   "execution_count": 3,
   "metadata": {},
   "outputs": [
    {
     "name": "stdout",
     "output_type": "stream",
     "text": [
      "78.53981633974483\n"
     ]
    }
   ],
   "source": [
    "area = calculate_circle_area(5) # 78.53981633974483\n",
    "print(area)"
   ]
  },
  {
   "cell_type": "code",
   "execution_count": null,
   "metadata": {},
   "outputs": [],
   "source": [
    "# Can you write a Python function to add two numbers named \"a\" and \"b\" and return the result?"
   ]
  },
  {
   "cell_type": "code",
   "execution_count": 6,
   "metadata": {},
   "outputs": [
    {
     "name": "stdout",
     "output_type": "stream",
     "text": [
      "7\n"
     ]
    }
   ],
   "source": [
    "def add_numbers(a, b):\n",
    "    return a + b\n",
    "\n",
    "result = add_numbers(3, 4)\n",
    "print(result) # 7"
   ]
  },
  {
   "cell_type": "code",
   "execution_count": 10,
   "metadata": {},
   "outputs": [
    {
     "name": "stdout",
     "output_type": "stream",
     "text": [
      "[5 7 9]\n"
     ]
    }
   ],
   "source": [
    "# Write a Python function using numpy to add two arrays\n",
    "\n",
    "import numpy as np\n",
    "\n",
    "def add_arrays(array1, array2):\n",
    "    \"\"\"\n",
    "    Add two numpy arrays element-wise.\n",
    "    Parameters:\n",
    "    array1 (numpy.ndarray): The first input array.\n",
    "    array2 (numpy.ndarray): The second input array.\n",
    "\n",
    "    Returns:\n",
    "    numpy.ndarray: The element-wise sum of the input arrays.\n",
    "    \"\"\"\n",
    "\n",
    "    return np.add(array1, array2)\n",
    "\n",
    "# Example usage\n",
    "array1 = np.array([1, 2, 3])\n",
    "array2 = np.array([4, 5, 6])\n",
    "result_array = add_arrays(array1, array2)\n",
    "print(result_array)  # Output: [5 7 9]"
   ]
  },
  {
   "cell_type": "code",
   "execution_count": 11,
   "metadata": {},
   "outputs": [
    {
     "name": "stdout",
     "output_type": "stream",
     "text": [
      "78.53981633974483\n"
     ]
    }
   ],
   "source": [
    "# Write a Python function to claculate the area of a circle given the radious of that circle. \n",
    "def calculate_circle_area(radius):\n",
    "    \"\"\"\n",
    "    Calculate the area of a circle given its radius.\n",
    "    \n",
    "    Parameters:\n",
    "    radius (float): The radius of the circle.\n",
    "    \n",
    "    Returns:\n",
    "    float: The area of the circle.\n",
    "    \"\"\"\n",
    "    return math.pi * (radius ** 2)\n",
    "\n",
    "# Example usage\n",
    "radius = 5\n",
    "area = calculate_circle_area(radius)\n",
    "print(area)  # Output: 78.53981633974483"
   ]
  },
  {
   "cell_type": "code",
   "execution_count": 12,
   "metadata": {},
   "outputs": [
    {
     "name": "stdout",
     "output_type": "stream",
     "text": [
      "Error: The radius must be a numeric value.\n",
      "None\n"
     ]
    }
   ],
   "source": [
    "# Can you update the function aboe to handle non numeric error values.\n",
    "def calculate_circle_area(radius):\n",
    "    \"\"\"\n",
    "    Calculate the area of a circle given its radius.\n",
    "    Parameters:\n",
    "    radius (float): The radius of the circle.\n",
    "    \n",
    "    Returns:\n",
    "    float: The area of the circle, or None if the input is not a number.\n",
    "    \"\"\"\n",
    "    if not isinstance(radius, (int, float)):\n",
    "        print(\"Error: The radius must be a numeric value.\")\n",
    "        return None\n",
    "    return math.pi * (radius ** 2)\n",
    "\n",
    "# Example usage\n",
    "radius = \"five\"\n",
    "area = calculate_circle_area(radius)\n",
    "print(area)  # Output: Error: The radius must be a numeric value. None"
   ]
  },
  {
   "cell_type": "code",
   "execution_count": 15,
   "metadata": {},
   "outputs": [
    {
     "name": "stdout",
     "output_type": "stream",
     "text": [
      "File downloaded successfully and saved to 0_contents.ipynb\n"
     ]
    }
   ],
   "source": [
    "# Write a python function using the requests library to download a file from a URL and \n",
    "# save the file to the disk without using third party libraries like wget\n",
    "import requests\n",
    "\n",
    "def download_file(url, save_path):\n",
    "    \"\"\"\n",
    "    Download a file from a URL and save it to the disk.\n",
    "    \n",
    "    Parameters:\n",
    "    url (str): The URL of the file to download.\n",
    "    save_path (str): The path where the file should be saved.\n",
    "    \n",
    "    Returns:\n",
    "    None\n",
    "    \"\"\"\n",
    "    response = requests.get(url)\n",
    "    if response.status_code == 200:\n",
    "        with open(save_path, 'wb') as file:\n",
    "            file.write(response.content)\n",
    "        print(f\"File downloaded successfully and saved to {save_path}\")\n",
    "    else:\n",
    "        print(f\"Failed to download file. Status code: {response.status_code}\")\n",
    "\n",
    "# Example usage\n",
    "url = 'https://raw.githubusercontent.com/mahtabsyed/Pythonic-Thinking/refs/heads/master/0_contents.ipynb'\n",
    "save_path = '0_contents.ipynb'\n",
    "download_file(url, save_path)"
   ]
  },
  {
   "cell_type": "code",
   "execution_count": 13,
   "metadata": {},
   "outputs": [
    {
     "name": "stdout",
     "output_type": "stream",
     "text": [
      "Factorial is not defined for negative numbers.\n",
      "The factorial of -3 is None\n"
     ]
    }
   ],
   "source": [
    "# Write a Python function to calculate the factorial of a number. And let it handle it well for negative numbers\n",
    "# Also, handle the case where the input is a decimal number.\n",
    "\n",
    "def factorial(n):\n",
    "    \"\"\"\n",
    "    Calculate the factorial of a number.\n",
    "    \n",
    "    Parameters:\n",
    "    n (int or float): The number to calculate the factorial for.\n",
    "    \n",
    "    Returns:\n",
    "    int: The factorial of the number, or None if the input is negative or a decimal.\n",
    "    \"\"\"\n",
    "    if isinstance(n, float) and not n.is_integer():\n",
    "        print(\"Sorry, can't calculate factorial of a decimal.\")\n",
    "        return None\n",
    "    elif n < 0:\n",
    "        print(\"Factorial is not defined for negative numbers.\")\n",
    "        return None\n",
    "    elif n == 0 or n == 1:\n",
    "        return 1\n",
    "    else:\n",
    "        result = 1\n",
    "        for i in range(2, int(n) + 1):\n",
    "            result *= i\n",
    "        return result\n",
    "\n",
    "# Example usage\n",
    "number = -3\n",
    "print(f\"The factorial of {number} is {factorial(number)}\")  # Output: Sorry, can't calculate factorial of a decimal. None"
   ]
  },
  {
   "cell_type": "code",
   "execution_count": 14,
   "metadata": {},
   "outputs": [
    {
     "name": "stdout",
     "output_type": "stream",
     "text": [
      "Is the string 'A man a plan a canal Panama' a palindrome? True\n"
     ]
    }
   ],
   "source": [
    "# Can you find if a string is a palindrome or not?\n",
    "def is_palindrome(s):\n",
    "    \"\"\"\n",
    "    Check if a given string is a palindrome.\n",
    "    \n",
    "    Parameters:\n",
    "    s (str): The string to check.\n",
    "    \n",
    "    Returns:\n",
    "    bool: True if the string is a palindrome, False otherwise.\n",
    "    \"\"\"\n",
    "    s = s.replace(\" \", \"\").lower()  # Remove spaces and convert to lowercase\n",
    "    return s == s[::-1]\n",
    "\n",
    "# Example usage\n",
    "string = \"A man a plan a canal Panama\"\n",
    "print(f\"Is the string '{string}' a palindrome? {is_palindrome(string)}\")  # Output: True"
   ]
  },
  {
   "cell_type": "code",
   "execution_count": 15,
   "metadata": {},
   "outputs": [
    {
     "name": "stdout",
     "output_type": "stream",
     "text": [
      "Is the string '' a palindrome? False\n"
     ]
    }
   ],
   "source": [
    "# Can you fix the code above to handle the error condition if this string is empty?\n",
    "def is_palindrome(s):\n",
    "    \"\"\"\n",
    "    Check if a given string is a palindrome.\n",
    "    \n",
    "    Parameters:\n",
    "    s (str): The string to check.\n",
    "    \n",
    "    Returns:\n",
    "    bool: True if the string is a palindrome, False otherwise.\n",
    "    \"\"\"\n",
    "    if not s:\n",
    "        return False\n",
    "    s = s.replace(\" \", \"\").lower()  # Remove spaces and convert to lowercase\n",
    "    return s == s[::-1]\n",
    "\n",
    "# Example usage\n",
    "string = \"\"\n",
    "print(f\"Is the string '{string}' a palindrome? {is_palindrome(string)}\")  # Output: False\n"
   ]
  },
  {
   "cell_type": "code",
   "execution_count": 16,
   "metadata": {},
   "outputs": [
    {
     "name": "stdout",
     "output_type": "stream",
     "text": [
      "Unique characters in the string 'hello world': {'w', 'h', 'o', 'd', 'e', 'l', ' ', 'r'}\n"
     ]
    }
   ],
   "source": [
    "# Write a Python function to find all the unique characters in a string\n",
    "def unique_characters(s):\n",
    "    \"\"\"\n",
    "    Find all unique characters in a given string.\n",
    "    \n",
    "    Parameters:\n",
    "    s (str): The string to check.\n",
    "    \n",
    "    Returns:\n",
    "    set: A set of unique characters in the string.\n",
    "    \"\"\"\n",
    "    return set(s)\n",
    "\n",
    "# Example usage\n",
    "string = \"hello world\"\n",
    "unique_chars = unique_characters(string)\n",
    "print(f\"Unique characters in the string '{string}': {unique_chars}\")  # Output: {'h', 'e', 'l', 'o', ' ', 'w', 'r', 'd'}"
   ]
  },
  {
   "cell_type": "code",
   "execution_count": 17,
   "metadata": {},
   "outputs": [
    {
     "name": "stdout",
     "output_type": "stream",
     "text": [
      "Sorted unique characters: [' ', 'd', 'e', 'h', 'l', 'o', 'r', 'w']\n"
     ]
    }
   ],
   "source": [
    "sorted_unique_chars = sorted(unique_chars)\n",
    "print(f\"Sorted unique characters: {sorted_unique_chars}\")  # Output: [' ', 'd', 'e', 'h', 'l', 'o', 'r', 'w']"
   ]
  },
  {
   "cell_type": "code",
   "execution_count": 5,
   "metadata": {},
   "outputs": [
    {
     "name": "stdout",
     "output_type": "stream",
     "text": [
      "Sorted characters:         abcdeeefghhijklmnoooopqrrsttuuvwxyz\n"
     ]
    }
   ],
   "source": [
    "def sort_characters(s):\n",
    "    \"\"\"\n",
    "    Sort all characters in a given string in alphabetical order.\n",
    "    \n",
    "    Parameters:\n",
    "    s (str): The string to sort.\n",
    "    \n",
    "    Returns:\n",
    "    str: A new string with characters sorted in alphabetical order.\n",
    "    \"\"\"\n",
    "    return ''.join(sorted(s))\n",
    "\n",
    "# Example usage\n",
    "long_string = \"the quick brown fox jumps over the lazy dog\"\n",
    "# long_string = \"\"\n",
    "sorted_string = sort_characters(long_string)\n",
    "print(f\"Sorted characters: {sorted_string}\")  # Output: \"        abcdeeefghhijklmnoooopqrrsttuuvwxyz\""
   ]
  },
  {
   "cell_type": "code",
   "execution_count": 2,
   "metadata": {},
   "outputs": [
    {
     "name": "stdout",
     "output_type": "stream",
     "text": [
      "Sorted characters: Error: The input string is empty.\n"
     ]
    }
   ],
   "source": [
    "def sort_characters(s):\n",
    "    \"\"\"\n",
    "    Sort all characters in a given string in alphabetical order.\n",
    "    \n",
    "    Parameters:\n",
    "    s (str): The string to sort.\n",
    "    \n",
    "    Returns:\n",
    "    str: A new string with characters sorted in alphabetical order, or an error message if the input is empty.\n",
    "    \"\"\"\n",
    "    if not s:\n",
    "        return \"Error: The input string is empty.\"\n",
    "    return ''.join(sorted(s))\n",
    "\n",
    "# Example usage\n",
    "long_string = \"\"\n",
    "sorted_string = sort_characters(long_string)\n",
    "print(f\"Sorted characters: {sorted_string}\")  # Output: \"Error: The input string is empty.\"\n"
   ]
  },
  {
   "cell_type": "code",
   "execution_count": 1,
   "metadata": {},
   "outputs": [
    {
     "name": "stdout",
     "output_type": "stream",
     "text": [
      "Sorted unique characters:  abcdefghijklmnopqrstuvwxyz\n"
     ]
    }
   ],
   "source": [
    "def sort_unique_characters(s):\n",
    "    \"\"\"\n",
    "    Sort all unique characters in a given string in alphabetical order.\n",
    "    \n",
    "    Parameters:\n",
    "    s (str): The string to sort.\n",
    "    \n",
    "    Returns:\n",
    "    str: A new string with unique characters sorted in alphabetical order, or an error message if the input is empty.\n",
    "    \"\"\"\n",
    "    if not s:\n",
    "        return \"Error: The input string is empty.\"\n",
    "    return ''.join(sorted(set(s)))\n",
    "\n",
    "# Example usage\n",
    "long_string = \"the quick brown fox jumps over the lazy dog\"\n",
    "sorted_unique_string = sort_unique_characters(long_string)\n",
    "print(f\"Sorted unique characters: {sorted_unique_string}\")  # Output: \" abcdefghijklmnopqrstuvwxyz\""
   ]
  }
 ],
 "metadata": {
  "kernelspec": {
   "display_name": ".venv",
   "language": "python",
   "name": "python3"
  },
  "language_info": {
   "codemirror_mode": {
    "name": "ipython",
    "version": 3
   },
   "file_extension": ".py",
   "mimetype": "text/x-python",
   "name": "python",
   "nbconvert_exporter": "python",
   "pygments_lexer": "ipython3",
   "version": "3.12.3"
  }
 },
 "nbformat": 4,
 "nbformat_minor": 2
}
